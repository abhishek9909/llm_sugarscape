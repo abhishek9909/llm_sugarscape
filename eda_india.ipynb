{
 "cells": [
  {
   "cell_type": "markdown",
   "metadata": {},
   "source": [
    "## Age:\n",
    "\n",
    "Age is based on data available [here](https://countrymeters.info/en/India)\n",
    "\n",
    "<img src=\"./assets/chatgpt_india_age.png\" height=\"500\"></img>"
   ]
  },
  {
   "cell_type": "markdown",
   "metadata": {},
   "source": [
    "Thoughts:\n",
    "- No good dataset to determine `Occupation` and `Income` distributions, so used perplexity for rough estimates."
   ]
  },
  {
   "cell_type": "markdown",
   "metadata": {},
   "source": [
    "## Income:\n",
    "\n",
    "Income is based on data available inferred from perplexity sources.\n",
    "\n",
    "<img src=\"./assets/perplexity_india_income.png\" height=\"500\"></img>"
   ]
  },
  {
   "cell_type": "markdown",
   "metadata": {},
   "source": [
    "## Occupation\n",
    "\n",
    "Occupation again based on data available from sources indexed by perplexity.\n",
    "\n",
    "<img src=\"./assets/perplexity_india_profession.png\" height=\"500\"></img>"
   ]
  },
  {
   "cell_type": "code",
   "execution_count": 1,
   "metadata": {},
   "outputs": [],
   "source": [
    "## As expanded by ChatGPT: \n",
    "professions = {\n",
    "    \"Agriculture\": [\n",
    "        \"Agronomist\",\n",
    "        \"Crop Farmer\",\n",
    "        \"Livestock Manager\",\n",
    "        \"Aquaculture Specialist\",\n",
    "        \"Forestry Technician\",\n",
    "        \"Irrigation Engineer\",\n",
    "        \"Agricultural Equipment Operator\",\n",
    "        \"Beekeeper\",\n",
    "        \"Soil Scientist\",\n",
    "        \"Agricultural Extension Officer\"\n",
    "    ],\n",
    "    \"Industry\": [\n",
    "        \"Construction Worker\",\n",
    "        \"Structural Engineer\",\n",
    "        \"Welder\",\n",
    "        \"Electrician\",\n",
    "        \"Factory Supervisor\",\n",
    "        \"Machine Operator\",\n",
    "        \"Mining Engineer\",\n",
    "        \"Metallurgist\",\n",
    "        \"Quality Control Inspector\",\n",
    "        \"Civil Engineer\"\n",
    "    ],\n",
    "    \"Services\": [\n",
    "        \"Retail Salesperson\",\n",
    "        \"Hotel Manager\",\n",
    "        \"Software Developer\",\n",
    "        \"Customer Support Executive\",\n",
    "        \"School Teacher\",\n",
    "        \"Nurse\",\n",
    "        \"Doctor\",\n",
    "        \"Financial Analyst\",\n",
    "        \"Accountant\",\n",
    "        \"Tour Guide\"\n",
    "    ]\n",
    "}\n"
   ]
  },
  {
   "cell_type": "code",
   "execution_count": 3,
   "metadata": {},
   "outputs": [],
   "source": [
    "## save professions to a file.\n",
    "import json\n",
    "\n",
    "with open('dump/india/glossary_professions.json', 'w') as f:\n",
    "    json.dump(professions, f, indent=4)"
   ]
  },
  {
   "cell_type": "markdown",
   "metadata": {},
   "source": []
  }
 ],
 "metadata": {
  "kernelspec": {
   "display_name": ".venv",
   "language": "python",
   "name": "python3"
  },
  "language_info": {
   "codemirror_mode": {
    "name": "ipython",
    "version": 3
   },
   "file_extension": ".py",
   "mimetype": "text/x-python",
   "name": "python",
   "nbconvert_exporter": "python",
   "pygments_lexer": "ipython3",
   "version": "3.11.9"
  }
 },
 "nbformat": 4,
 "nbformat_minor": 2
}
