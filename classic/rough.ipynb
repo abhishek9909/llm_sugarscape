{
 "cells": [
  {
   "cell_type": "code",
   "execution_count": 36,
   "metadata": {},
   "outputs": [],
   "source": [
    "import time\n",
    "import os"
   ]
  },
  {
   "cell_type": "code",
   "execution_count": 44,
   "metadata": {},
   "outputs": [],
   "source": [
    "class Agent:\n",
    "    def __init__(self, x, y, chars):\n",
    "        self.x, self.y, self.chars = x, y, chars\n",
    "    def update_position(self, x, y):\n",
    "        self.x, self.y = x, y\n",
    "    def check_satisfaction(self, agents, threshold):\n",
    "        total, similar = len(agents), sum([1 for agent in agents if agent.chars == self.chars])   \n",
    "        return total == 0 or round(similar / total, 2) >= threshold"
   ]
  },
  {
   "cell_type": "code",
   "execution_count": 45,
   "metadata": {},
   "outputs": [],
   "source": [
    "import random\n",
    "\n",
    "def generate_random_x_y(upper_x, upper_y):\n",
    "    return random.randint(0, upper_x-1), random.randint(0, upper_y-1)"
   ]
  },
  {
   "cell_type": "code",
   "execution_count": 46,
   "metadata": {},
   "outputs": [],
   "source": [
    "class Grid:\n",
    "    def __init__(self, num_of_agents, num_of_cells, num_of_chars, threshold):\n",
    "        self.threshold = threshold\n",
    "        ## square root of the number of cells\n",
    "        self.width, self.height = int(num_of_cells ** 0.5), int(num_of_cells ** 0.5)\n",
    "        ## create agents with random positions and equidistributed chars.\n",
    "        self.agents = [(i, Agent(*generate_random_x_y(self.width, self.height), i % num_of_chars)) for i in range(num_of_agents)]\n",
    "        ## create grid and place agents on it\n",
    "        self.grid = [[None for _ in range(self.width)] for _ in range(self.height)]\n",
    "        for i, agent in self.agents:\n",
    "            self.grid[agent.y][agent.x] = agent\n",
    "\n",
    "    def get_neighbors(self, x, y):\n",
    "        neighbors = []\n",
    "        for i in range(-1, 2):\n",
    "            for j in range(-1, 2):\n",
    "                if 0 <= x + i < self.width and 0 <= y + j < self.height and self.grid[y + j][x + i] is not None:\n",
    "                    if i != 0 or j != 0:\n",
    "                        neighbors.append(self.grid[y + j][x + i])\n",
    "        return neighbors\n",
    "\n",
    "    def simulate_round(self):\n",
    "        unsatified_agents = []\n",
    "        for _, agent in self.agents:\n",
    "            ## get the Moore neighborhood of the agent\n",
    "            neighbors = self.get_neighbors(agent.x, agent.y)\n",
    "            ## check if the agent is satisfied\n",
    "            if not agent.check_satisfaction(neighbors, self.threshold):\n",
    "                unsatified_agents.append(agent)\n",
    "        \n",
    "        ## get unoccupied cells\n",
    "        unoccupied_cells = [(x, y) for y in range(self.height) for x in range(self.width) if self.grid[y][x] is None]\n",
    "\n",
    "        ## put unsatisfied agents in unoccupied cells\n",
    "        for agent in unsatified_agents:\n",
    "            if unoccupied_cells:\n",
    "                x, y = unoccupied_cells.pop(random.randint(0, len(unoccupied_cells) - 1))\n",
    "                self.grid[agent.y][agent.x] = None\n",
    "                self.grid[y][x] = agent\n",
    "                agent.update_position(x, y)\n",
    "            else:\n",
    "                break\n",
    "        \n",
    "        return len(unsatified_agents)\n",
    "\n",
    "    def simulate_rounds(self):\n",
    "        round = 1\n",
    "        self.visualize(round)\n",
    "        while self.simulate_round() > 0:\n",
    "            self.visualize(round)\n",
    "            round += 1\n",
    "    \n",
    "    def visualize(self, round):\n",
    "        os.system('clear')\n",
    "        print(f'Round: {round}')\n",
    "        for row in self.grid:\n",
    "            for cell in row:\n",
    "                if cell is None:\n",
    "                    print('.', end=' ')\n",
    "                else:\n",
    "                    print(cell.chars, end=' ')\n",
    "            print()"
   ]
  },
  {
   "cell_type": "code",
   "execution_count": 47,
   "metadata": {},
   "outputs": [],
   "source": [
    "grid = Grid(50, 100, 2, 0.3)"
   ]
  },
  {
   "cell_type": "code",
   "execution_count": 48,
   "metadata": {},
   "outputs": [
    {
     "name": "stdout",
     "output_type": "stream",
     "text": [
      "Round: 0\n",
      "1 . . . . . . . 1 0 \n",
      ". . 1 . . . . 1 . . \n",
      ". . . . . . . 1 . . \n",
      "0 . 1 . . 1 . . 1 1 \n",
      "0 . 1 . . . . 0 . 0 \n",
      ". . 1 1 0 . . . 1 1 \n",
      "0 0 0 . 1 1 0 0 . . \n",
      ". 1 0 0 1 . . . 1 . \n",
      ". 0 . 0 0 . . 1 . 1 \n",
      "1 . . . . . . . . . \n"
     ]
    }
   ],
   "source": [
    "grid.visualize(0)"
   ]
  },
  {
   "cell_type": "code",
   "execution_count": 49,
   "metadata": {},
   "outputs": [
    {
     "name": "stdout",
     "output_type": "stream",
     "text": [
      "Round: 1\n",
      "1 . . . 1 1 . . 1 . \n",
      ". . 1 . 0 . . . . 0 \n",
      ". 1 . . . . . 1 0 . \n",
      "0 . . . . 1 . 0 1 1 \n",
      "0 . 1 . . . . . . . \n",
      ". . 1 1 . . . . . 1 \n",
      "0 0 0 . 1 1 0 0 . . \n",
      "0 . . 0 1 . . . 1 0 \n",
      ". 0 . 0 0 . . 1 . . \n",
      ". . . . 1 0 . . . . \n"
     ]
    }
   ],
   "source": [
    "grid.simulate_round()\n",
    "grid.visualize(1)"
   ]
  },
  {
   "cell_type": "code",
   "execution_count": 50,
   "metadata": {},
   "outputs": [
    {
     "name": "stdout",
     "output_type": "stream",
     "text": [
      "Round: 1\n",
      "0 0 . . 1 0 . 1 0 1 \n",
      ". 1 . 0 . 1 . . 0 . \n",
      "1 . 1 . . . 0 . . 0 \n",
      ". . . . . 1 0 1 . . \n",
      "0 . . 0 . . . . 0 0 \n",
      ". . . 0 1 . . 0 . . \n",
      ". 1 . . 1 . 0 1 . . \n",
      "1 . . . . . . 1 . . \n",
      ". 0 . . . 0 . . . 1 \n",
      ". . . 0 0 1 . . 1 . \n",
      "Round: 1\n",
      "0 0 . . 1 . . . 0 . \n",
      "1 1 . . . 1 . 0 0 . \n",
      "1 . 1 0 . . . . . 0 \n",
      ". . 0 . . . 0 . . . \n",
      "0 . . 0 . 1 . . 0 0 \n",
      "0 . . 0 1 . . 0 . . \n",
      ". 1 1 . 1 . 0 1 . . \n",
      "1 . . 1 . 1 . 1 . 0 \n",
      ". . . . 1 0 . . . 1 \n",
      ". . . 0 0 . . . 1 . \n",
      "Round: 2\n",
      "0 0 . 0 1 . . . 0 . \n",
      "1 1 . . . 1 . 0 0 . \n",
      "1 . 1 0 . 0 . . . 0 \n",
      ". . 0 0 . . . . 0 . \n",
      "0 . . 0 . 1 . . 0 0 \n",
      "0 0 . . 1 . . 0 . . \n",
      ". 1 1 . 1 . . 1 . . \n",
      "1 . . 1 . 1 . 1 . . \n",
      ". . . . 1 0 . . . 1 \n",
      ". . . 0 0 . . . 1 . \n",
      "Round: 3\n",
      "0 0 . . 1 . . . 0 . \n",
      "1 1 . . . 1 . 0 0 . \n",
      "1 . . 0 . . . . . 0 \n",
      ". 0 0 0 . . . . 0 . \n",
      "0 . . 0 . 1 . . 0 0 \n",
      "0 0 . . 1 . . 0 . . \n",
      ". 1 1 . 1 . . 1 . . \n",
      "1 . . 1 . 1 0 1 . . \n",
      ". . . 1 1 0 . . . 1 \n",
      ". . . 0 0 . . . 1 . \n",
      "Round: 4\n",
      "0 0 . . 1 . . . 0 . \n",
      "1 1 . . . 1 . 0 0 . \n",
      "1 . . 0 . . . . . 0 \n",
      "0 0 0 0 0 . . . 0 . \n",
      "0 . . 0 . 1 . . 0 0 \n",
      "0 0 . . 1 . . 0 . . \n",
      ". 1 1 . 1 . . 1 . . \n",
      "1 . . 1 . 1 . 1 . . \n",
      ". . . 1 1 0 . . . 1 \n",
      ". . . 0 0 . . . 1 . \n"
     ]
    }
   ],
   "source": [
    "grid = Grid(50, 100, 2, 0.3)\n",
    "grid.simulate_rounds()"
   ]
  },
  {
   "cell_type": "code",
   "execution_count": null,
   "metadata": {},
   "outputs": [],
   "source": []
  }
 ],
 "metadata": {
  "kernelspec": {
   "display_name": ".venv",
   "language": "python",
   "name": "python3"
  },
  "language_info": {
   "codemirror_mode": {
    "name": "ipython",
    "version": 3
   },
   "file_extension": ".py",
   "mimetype": "text/x-python",
   "name": "python",
   "nbconvert_exporter": "python",
   "pygments_lexer": "ipython3",
   "version": "3.11.9"
  }
 },
 "nbformat": 4,
 "nbformat_minor": 2
}
