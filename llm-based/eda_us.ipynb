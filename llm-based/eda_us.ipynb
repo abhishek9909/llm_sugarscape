{
 "cells": [
  {
   "cell_type": "code",
   "execution_count": 1,
   "metadata": {},
   "outputs": [],
   "source": [
    "import pandas as pd\n",
    "import numpy as np"
   ]
  },
  {
   "cell_type": "code",
   "execution_count": 2,
   "metadata": {},
   "outputs": [
    {
     "data": {
      "text/plain": [
       "['us_raw_data/adult.csv\\\\adult.csv']"
      ]
     },
     "execution_count": 2,
     "metadata": {},
     "output_type": "execute_result"
    }
   ],
   "source": [
    "import glob\n",
    "files = glob.glob(\"us_raw_data/adult.csv/*.csv\")\n",
    "files"
   ]
  },
  {
   "cell_type": "code",
   "execution_count": 3,
   "metadata": {},
   "outputs": [
    {
     "data": {
      "text/html": [
       "<div>\n",
       "<style scoped>\n",
       "    .dataframe tbody tr th:only-of-type {\n",
       "        vertical-align: middle;\n",
       "    }\n",
       "\n",
       "    .dataframe tbody tr th {\n",
       "        vertical-align: top;\n",
       "    }\n",
       "\n",
       "    .dataframe thead th {\n",
       "        text-align: right;\n",
       "    }\n",
       "</style>\n",
       "<table border=\"1\" class=\"dataframe\">\n",
       "  <thead>\n",
       "    <tr style=\"text-align: right;\">\n",
       "      <th></th>\n",
       "      <th>age</th>\n",
       "      <th>workclass</th>\n",
       "      <th>fnlwgt</th>\n",
       "      <th>education</th>\n",
       "      <th>education.num</th>\n",
       "      <th>marital.status</th>\n",
       "      <th>occupation</th>\n",
       "      <th>relationship</th>\n",
       "      <th>race</th>\n",
       "      <th>sex</th>\n",
       "      <th>capital.gain</th>\n",
       "      <th>capital.loss</th>\n",
       "      <th>hours.per.week</th>\n",
       "      <th>native.country</th>\n",
       "      <th>income</th>\n",
       "    </tr>\n",
       "  </thead>\n",
       "  <tbody>\n",
       "    <tr>\n",
       "      <th>0</th>\n",
       "      <td>90</td>\n",
       "      <td>?</td>\n",
       "      <td>77053</td>\n",
       "      <td>HS-grad</td>\n",
       "      <td>9</td>\n",
       "      <td>Widowed</td>\n",
       "      <td>?</td>\n",
       "      <td>Not-in-family</td>\n",
       "      <td>White</td>\n",
       "      <td>Female</td>\n",
       "      <td>0</td>\n",
       "      <td>4356</td>\n",
       "      <td>40</td>\n",
       "      <td>United-States</td>\n",
       "      <td>&lt;=50K</td>\n",
       "    </tr>\n",
       "    <tr>\n",
       "      <th>1</th>\n",
       "      <td>82</td>\n",
       "      <td>Private</td>\n",
       "      <td>132870</td>\n",
       "      <td>HS-grad</td>\n",
       "      <td>9</td>\n",
       "      <td>Widowed</td>\n",
       "      <td>Exec-managerial</td>\n",
       "      <td>Not-in-family</td>\n",
       "      <td>White</td>\n",
       "      <td>Female</td>\n",
       "      <td>0</td>\n",
       "      <td>4356</td>\n",
       "      <td>18</td>\n",
       "      <td>United-States</td>\n",
       "      <td>&lt;=50K</td>\n",
       "    </tr>\n",
       "    <tr>\n",
       "      <th>2</th>\n",
       "      <td>66</td>\n",
       "      <td>?</td>\n",
       "      <td>186061</td>\n",
       "      <td>Some-college</td>\n",
       "      <td>10</td>\n",
       "      <td>Widowed</td>\n",
       "      <td>?</td>\n",
       "      <td>Unmarried</td>\n",
       "      <td>Black</td>\n",
       "      <td>Female</td>\n",
       "      <td>0</td>\n",
       "      <td>4356</td>\n",
       "      <td>40</td>\n",
       "      <td>United-States</td>\n",
       "      <td>&lt;=50K</td>\n",
       "    </tr>\n",
       "    <tr>\n",
       "      <th>3</th>\n",
       "      <td>54</td>\n",
       "      <td>Private</td>\n",
       "      <td>140359</td>\n",
       "      <td>7th-8th</td>\n",
       "      <td>4</td>\n",
       "      <td>Divorced</td>\n",
       "      <td>Machine-op-inspct</td>\n",
       "      <td>Unmarried</td>\n",
       "      <td>White</td>\n",
       "      <td>Female</td>\n",
       "      <td>0</td>\n",
       "      <td>3900</td>\n",
       "      <td>40</td>\n",
       "      <td>United-States</td>\n",
       "      <td>&lt;=50K</td>\n",
       "    </tr>\n",
       "    <tr>\n",
       "      <th>4</th>\n",
       "      <td>41</td>\n",
       "      <td>Private</td>\n",
       "      <td>264663</td>\n",
       "      <td>Some-college</td>\n",
       "      <td>10</td>\n",
       "      <td>Separated</td>\n",
       "      <td>Prof-specialty</td>\n",
       "      <td>Own-child</td>\n",
       "      <td>White</td>\n",
       "      <td>Female</td>\n",
       "      <td>0</td>\n",
       "      <td>3900</td>\n",
       "      <td>40</td>\n",
       "      <td>United-States</td>\n",
       "      <td>&lt;=50K</td>\n",
       "    </tr>\n",
       "  </tbody>\n",
       "</table>\n",
       "</div>"
      ],
      "text/plain": [
       "   age workclass  fnlwgt     education  education.num marital.status  \\\n",
       "0   90         ?   77053       HS-grad              9        Widowed   \n",
       "1   82   Private  132870       HS-grad              9        Widowed   \n",
       "2   66         ?  186061  Some-college             10        Widowed   \n",
       "3   54   Private  140359       7th-8th              4       Divorced   \n",
       "4   41   Private  264663  Some-college             10      Separated   \n",
       "\n",
       "          occupation   relationship   race     sex  capital.gain  \\\n",
       "0                  ?  Not-in-family  White  Female             0   \n",
       "1    Exec-managerial  Not-in-family  White  Female             0   \n",
       "2                  ?      Unmarried  Black  Female             0   \n",
       "3  Machine-op-inspct      Unmarried  White  Female             0   \n",
       "4     Prof-specialty      Own-child  White  Female             0   \n",
       "\n",
       "   capital.loss  hours.per.week native.country income  \n",
       "0          4356              40  United-States  <=50K  \n",
       "1          4356              18  United-States  <=50K  \n",
       "2          4356              40  United-States  <=50K  \n",
       "3          3900              40  United-States  <=50K  \n",
       "4          3900              40  United-States  <=50K  "
      ]
     },
     "execution_count": 3,
     "metadata": {},
     "output_type": "execute_result"
    }
   ],
   "source": [
    "df = pd.read_csv(files[0])\n",
    "df.head()"
   ]
  },
  {
   "cell_type": "code",
   "execution_count": 4,
   "metadata": {},
   "outputs": [
    {
     "data": {
      "text/plain": [
       "race\n",
       "White                 27816\n",
       "Black                  3124\n",
       "Asian-Pac-Islander     1039\n",
       "Amer-Indian-Eskimo      311\n",
       "Other                   271\n",
       "Name: count, dtype: int64"
      ]
     },
     "execution_count": 4,
     "metadata": {},
     "output_type": "execute_result"
    }
   ],
   "source": [
    "df['race'].value_counts()"
   ]
  },
  {
   "cell_type": "code",
   "execution_count": 5,
   "metadata": {},
   "outputs": [
    {
     "data": {
      "text/plain": [
       "occupation\n",
       "Prof-specialty       4140\n",
       "Craft-repair         4099\n",
       "Exec-managerial      4066\n",
       "Adm-clerical         3770\n",
       "Sales                3650\n",
       "Other-service        3295\n",
       "Machine-op-inspct    2002\n",
       "?                    1843\n",
       "Transport-moving     1597\n",
       "Handlers-cleaners    1370\n",
       "Farming-fishing       994\n",
       "Tech-support          928\n",
       "Protective-serv       649\n",
       "Priv-house-serv       149\n",
       "Armed-Forces            9\n",
       "Name: count, dtype: int64"
      ]
     },
     "execution_count": 5,
     "metadata": {},
     "output_type": "execute_result"
    }
   ],
   "source": [
    "df['occupation'].value_counts()"
   ]
  },
  {
   "cell_type": "markdown",
   "metadata": {},
   "source": [
    "## Occupation:\n",
    "\n",
    "- Take 6 highest occupations (instead of other-service, get 'Handlers-cleaners-farming-fishing' as one category), get a 20 designations for each type."
   ]
  },
  {
   "cell_type": "code",
   "execution_count": 6,
   "metadata": {},
   "outputs": [
    {
     "data": {
      "text/plain": [
       "age\n",
       "36    898\n",
       "31    888\n",
       "34    886\n",
       "23    877\n",
       "35    876\n",
       "     ... \n",
       "83      6\n",
       "88      3\n",
       "85      3\n",
       "86      1\n",
       "87      1\n",
       "Name: count, Length: 73, dtype: int64"
      ]
     },
     "execution_count": 6,
     "metadata": {},
     "output_type": "execute_result"
    }
   ],
   "source": [
    "df['age'].value_counts()"
   ]
  },
  {
   "cell_type": "code",
   "execution_count": 7,
   "metadata": {},
   "outputs": [
    {
     "data": {
      "text/plain": [
       "(array([2410., 3160., 2461., 3429., 3465., 2583., 3198., 2965., 1828.,\n",
       "        2139., 1558., 1033.,  996.,  599.,  269.,  227.,  120.,   54.,\n",
       "          20.,   47.]),\n",
       " array([17.  , 20.65, 24.3 , 27.95, 31.6 , 35.25, 38.9 , 42.55, 46.2 ,\n",
       "        49.85, 53.5 , 57.15, 60.8 , 64.45, 68.1 , 71.75, 75.4 , 79.05,\n",
       "        82.7 , 86.35, 90.  ]),\n",
       " <BarContainer object of 20 artists>)"
      ]
     },
     "execution_count": 7,
     "metadata": {},
     "output_type": "execute_result"
    },
    {
     "data": {
      "image/png": "[encoded data removed]",
      "text/plain": [
       "<Figure size 640x480 with 1 Axes>"
      ]
     },
     "metadata": {},
     "output_type": "display_data"
    }
   ],
   "source": [
    "## plot age distribution\n",
    "import matplotlib.pyplot as plt\n",
    "\n",
    "plt.hist(df['age'], bins=20)"
   ]
  },
  {
   "cell_type": "code",
   "execution_count": 11,
   "metadata": {},
   "outputs": [
    {
     "data": {
      "text/plain": [
       "age_group\n",
       "(16.999, 28.0]    8898\n",
       "(37.0, 48.0]      8241\n",
       "(28.0, 37.0]      7783\n",
       "(48.0, 90.0]      7639\n",
       "Name: count, dtype: int64"
      ]
     },
     "execution_count": 11,
     "metadata": {},
     "output_type": "execute_result"
    }
   ],
   "source": [
    "## Divide age into 4 contiguous groups of equal size.\n",
    "df['age_group'] = pd.qcut(df['age'], q=4)\n",
    "df['age_group'].value_counts()"
   ]
  },
  {
   "cell_type": "markdown",
   "metadata": {},
   "source": [
    "## Age:\n",
    "\n",
    "- Decide age of the agent based on probability weighted by this distribution.\n",
    "- Age groups decided based on where contiguous cuts decided earlier."
   ]
  },
  {
   "cell_type": "code",
   "execution_count": 8,
   "metadata": {},
   "outputs": [
    {
     "data": {
      "text/plain": [
       "income\n",
       "<=50K    24720\n",
       ">50K      7841\n",
       "Name: count, dtype: int64"
      ]
     },
     "execution_count": 8,
     "metadata": {},
     "output_type": "execute_result"
    }
   ],
   "source": [
    "df['income'].value_counts()"
   ]
  },
  {
   "cell_type": "markdown",
   "metadata": {},
   "source": [
    "## Income:\n",
    "\n",
    "\n",
    "Thoughts:\n",
    "\n",
    "- `>=50k` and `<50k` are not very useful indicators of economic status.\n",
    "- So, we need to generate the income groups manually.\n",
    "- Expected high correlation between income and profession & income and age, a random value might be an inaccurate representation of any sample.\n",
    "- But we dont want intend to have a 'real' or 'accurate' representation of population, infact, would be better for this feature to be independent so that our observations at the end can be better and analysis becomes easier.\n",
    "\n",
    "ChatGPT helps to do this in a better way.\n",
    "\n",
    "<img src=\"./assets/chatgpt_us_income_groups.png\" height=\"500\"></img>"
   ]
  },
  {
   "cell_type": "markdown",
   "metadata": {},
   "source": [
    "## Interests:\n",
    "\n",
    "Similarily for hobbies:\n",
    "\n",
    "<img src=\"./assets/chatgpt_hobbies.png\" height=\"500\"></img> "
   ]
  },
  {
   "cell_type": "code",
   "execution_count": 9,
   "metadata": {},
   "outputs": [],
   "source": [
    "hobbies = [\n",
    "    [\"painting\", \"writing\", \"photography\", \"crafting\", \"playing musical instruments\", \n",
    "     \"knitting\", \"sewing\", \"pottery\", \"calligraphy\", \"graphic design\"],  # Creative Hobbies\n",
    "    \n",
    "    [\"sports\", \"yoga\", \"hiking\", \"dancing\", \"martial arts\", \n",
    "     \"swimming\", \"cycling\", \"running\", \"rock climbing\", \"aerobics\"],  # Physical Hobbies\n",
    "    \n",
    "    [\"reading\", \"puzzles\", \"coding\", \"learning languages\", \"chess\", \n",
    "     \"studying history\", \"solving riddles\", \"philosophy\", \"writing algorithms\", \"researching science\"],  # Intellectual Hobbies\n",
    "    \n",
    "    [\"volunteering\", \"team sports\", \"hosting events\", \"joining clubs\", \"networking\", \n",
    "     \"attending meetups\", \"group gaming\", \"organizing charity events\", \"debating\", \"community gardening\"],  # Social Hobbies\n",
    "    \n",
    "    [\"stamp collecting\", \"coin collecting\", \"vintage items\", \"book collecting\", \"trading cards\", \n",
    "     \"comic books\", \"art collecting\", \"toy collecting\", \"souvenir collecting\", \"antique collecting\"]  # Collecting Hobbies\n",
    "]"
   ]
  },
  {
   "cell_type": "code",
   "execution_count": 16,
   "metadata": {},
   "outputs": [],
   "source": [
    "import json\n",
    "\n",
    "hobby_keys = [\"creative\", \"physical\", \"intellectual\", \"social\", \"collecting\"]\n",
    "hobby_dict = dict(zip(hobby_keys, hobbies))\n",
    "with open(\"dump/hobbies.json\", \"w\") as f:\n",
    "    json.dump(hobby_dict, f, indent=4)"
   ]
  },
  {
   "cell_type": "code",
   "execution_count": 12,
   "metadata": {},
   "outputs": [],
   "source": [
    "# Prof-Specialty\n",
    "prof_specialty = [\n",
    "    \"Doctor\",\n",
    "    \"Lawyer\",\n",
    "    \"Engineer\",\n",
    "    \"Scientist\",\n",
    "    \"Architect\",\n",
    "    \"Professor\",\n",
    "    \"Pharmacist\",\n",
    "    \"Veterinarian\",\n",
    "    \"Psychologist\",\n",
    "    \"Dentist\"\n",
    "]\n",
    "\n",
    "# Craft-Repair\n",
    "craft_repair = [\n",
    "    \"Carpenter\",\n",
    "    \"Electrician\",\n",
    "    \"Plumber\",\n",
    "    \"Mechanic\",\n",
    "    \"Welder\",\n",
    "    \"Mason\",\n",
    "    \"Blacksmith\",\n",
    "    \"Painter\",\n",
    "    \"Tailor\",\n",
    "    \"Jeweler\"\n",
    "]\n",
    "\n",
    "# Exec-Managerial\n",
    "exec_managerial = [\n",
    "    \"CEO\",\n",
    "    \"CFO\",\n",
    "    \"Project Manager\",\n",
    "    \"Marketing Director\",\n",
    "    \"Operations Manager\",\n",
    "    \"Product Manager\",\n",
    "    \"HR Manager\",\n",
    "    \"Sales Director\",\n",
    "    \"Financial Analyst\",\n",
    "    \"Supply Chain Manager\"\n",
    "]\n",
    "\n",
    "# Adm-Clerical\n",
    "adm_clerical = [\n",
    "    \"Administrative Assistant\",\n",
    "    \"Secretary\",\n",
    "    \"Receptionist\",\n",
    "    \"Data Entry Clerk\",\n",
    "    \"Office Manager\",\n",
    "    \"Clerical Assistant\",\n",
    "    \"Mailroom Clerk\",\n",
    "    \"Scheduler\",\n",
    "    \"Billing Clerk\",\n",
    "    \"File Clerk\"\n",
    "]\n",
    "\n",
    "# Sales\n",
    "sales = [\n",
    "    \"Sales Representative\",\n",
    "    \"Retail Salesperson\",\n",
    "    \"Real Estate Agent\",\n",
    "    \"Insurance Agent\",\n",
    "    \"Car Salesperson\",\n",
    "    \"Account Executive\",\n",
    "    \"Telemarketer\",\n",
    "    \"Sales Manager\",\n",
    "    \"Pharmaceutical Sales Representative\",\n",
    "    \"Inside Sales Associate\"\n",
    "]\n",
    "\n",
    "# Handlers-Cleaners-Farming-Fishing\n",
    "handlers_cleaners_farming_fishing = [\n",
    "    \"Janitor\",\n",
    "    \"Cleaner\",\n",
    "    \"Garbage Collector\",\n",
    "    \"Farm Worker\",\n",
    "    \"Fisherman\",\n",
    "    \"Gardener\",\n",
    "    \"Landscaper\",\n",
    "    \"Pest Control Worker\",\n",
    "    \"Groundskeeper\",\n",
    "    \"Aquaculture Technician\"\n",
    "]\n"
   ]
  },
  {
   "cell_type": "code",
   "execution_count": 15,
   "metadata": {},
   "outputs": [],
   "source": [
    "import json\n",
    "import inspect\n",
    "\n",
    "def nameof(var):\n",
    "    callers_local_vars = inspect.currentframe().f_back.f_locals.items()\n",
    "    return [var_name for var_name, var_val in callers_local_vars if var_val is var][0]\n",
    "\n",
    "all_professions_l = [prof_specialty, craft_repair, exec_managerial, adm_clerical, sales, handlers_cleaners_farming_fishing]\n",
    "all_professions = {}\n",
    "for li in all_professions_l:\n",
    "    all_professions[nameof(li)] = li\n",
    "\n",
    "with open(\"dump/us/glossary_professions.json\", \"w\") as f:\n",
    "    json.dump(all_professions, f, indent=2)"
   ]
  },
  {
   "cell_type": "markdown",
   "metadata": {},
   "source": []
  }
 ],
 "metadata": {
  "kernelspec": {
   "display_name": ".venv",
   "language": "python",
   "name": "python3"
  },
  "language_info": {
   "codemirror_mode": {
    "name": "ipython",
    "version": 3
   },
   "file_extension": ".py",
   "mimetype": "text/x-python",
   "name": "python",
   "nbconvert_exporter": "python",
   "pygments_lexer": "ipython3",
   "version": "3.11.9"
  }
 },
 "nbformat": 4,
 "nbformat_minor": 2
}
