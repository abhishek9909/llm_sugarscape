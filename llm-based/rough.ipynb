{
 "cells": [
  {
   "cell_type": "code",
   "execution_count": 14,
   "metadata": {},
   "outputs": [],
   "source": [
    "api_key = None\n",
    "\n",
    "with open(\".env\", \"r\") as f:\n",
    "    for line in f:\n",
    "        if line.startswith(\"OPENAI_API_KEY\"):\n",
    "            api_key = line.split(\"=\")[1].strip()"
   ]
  },
  {
   "cell_type": "code",
   "execution_count": 15,
   "metadata": {},
   "outputs": [],
   "source": [
    "from openai import OpenAI\n",
    "client = OpenAI(api_key=api_key)"
   ]
  },
  {
   "cell_type": "code",
   "execution_count": 44,
   "metadata": {},
   "outputs": [],
   "source": [
    "class Person:\n",
    "    def __init__(self, name, age, profession):\n",
    "        self.name = name\n",
    "        self.age = age\n",
    "        self.profession = profession\n",
    "    def __str__(self):\n",
    "        return f\"{self.name} is a {self.age} year old {self.profession}.\"\n",
    "    def check_compatibility(self, person, model = \"gpt-4o-mini\"):\n",
    "        completion = client.chat.completions.create(\n",
    "            temperature=0.0,\n",
    "            model = model,\n",
    "            messages=[\n",
    "                { \"role\" : \"system\", \"content\": f\"You are an individual named {self.name} who is {self.age} years old {self.profession}\"},\n",
    "                { \"role\": \"user\", \"content\": f\"\"\"\n",
    "                    Do you feel safe and match with {person.name} a {person.age} {person.profession} as your neighbour?, Respond in this format: \n",
    "                    ```json\n",
    "                    {{\n",
    "                        \"SafetyExplanation\": \"string\", // Explain the reasoning behind your answer.\n",
    "                        \"SafetyCheck\": \"boolean\" // Whether you feel safe with the person.\n",
    "                        \"MatchExplanation\": \"string\", // Explain the reasoning behind your answer.\n",
    "                        \"MatchCheck\": \"boolean\" // Whether you match with the person.\n",
    "                    }}\n",
    "                    ```         \n",
    "                \"\"\"}\n",
    "            ]\n",
    "        )\n",
    "\n",
    "        print(completion.choices[0].message.content)"
   ]
  },
  {
   "cell_type": "code",
   "execution_count": 45,
   "metadata": {},
   "outputs": [],
   "source": [
    "person1 = Person(\"Aaron Schwartz\", 32, \"Software Engineer\")\n",
    "person2 = Person(\"Barbara Johnson\", 29, \"Nurse\")\n",
    "person3 = Person(\"Devi Gupta\", 35, \"Nurse\")\n",
    "person4 = Person(\"Benjamin Horowitz\", 42, \"Lawyer\")\n",
    "person5 = Person(\"Devon Brown\", 42, \"Lawyer\")"
   ]
  },
  {
   "cell_type": "code",
   "execution_count": 46,
   "metadata": {},
   "outputs": [
    {
     "name": "stdout",
     "output_type": "stream",
     "text": [
      "```json\n",
      "{\n",
      "    \"SafetyExplanation\": \"As a software engineer, I often work from home and value a peaceful environment. Having a nurse as a neighbor could be beneficial, as they are typically responsible and caring individuals. However, I would need to know more about Barbara's lifestyle and habits to fully assess safety.\",\n",
      "    \"SafetyCheck\": true,\n",
      "    \"MatchExplanation\": \"Being in the tech field, I appreciate the importance of healthcare and the dedication that comes with being a nurse. We might share common values regarding work ethic and community service, which could lead to a good neighborly relationship.\",\n",
      "    \"MatchCheck\": true\n",
      "}\n",
      "```\n"
     ]
    }
   ],
   "source": [
    "person1.check_compatibility(person2)"
   ]
  },
  {
   "cell_type": "code",
   "execution_count": 47,
   "metadata": {},
   "outputs": [
    {
     "name": "stdout",
     "output_type": "stream",
     "text": [
      "```json\n",
      "{\n",
      "    \"SafetyExplanation\": \"As a software engineer, I value a peaceful and secure environment. Having a nurse as a neighbor can be reassuring, as they are typically trained in emergency situations and have a caring nature, which contributes to a sense of safety in the community.\",\n",
      "    \"SafetyCheck\": true,\n",
      "    \"MatchExplanation\": \"While Devi and I have different professions, I believe that our age difference is minimal and we may share common interests in health, technology, and community engagement. This could lead to a good neighborly relationship, though it may not necessarily indicate a personal match.\",\n",
      "    \"MatchCheck\": true\n",
      "}\n",
      "```\n"
     ]
    }
   ],
   "source": [
    "person1.check_compatibility(person3)"
   ]
  },
  {
   "cell_type": "code",
   "execution_count": 62,
   "metadata": {},
   "outputs": [
    {
     "name": "stdout",
     "output_type": "stream",
     "text": [
      "```json\n",
      "{\n",
      "    \"SafetyExplanation\": \"Having a lawyer as a neighbor can provide a sense of security, as they are often knowledgeable about legal matters and can handle disputes effectively. Additionally, Benjamin's age and profession suggest he is likely responsible and stable.\",\n",
      "    \"SafetyCheck\": true,\n",
      "    \"MatchExplanation\": \"While Benjamin and I are in different professions and age groups, we may share common interests in technology and law, which could lead to engaging conversations. However, our differing life stages might limit our compatibility.\",\n",
      "    \"MatchCheck\": false\n",
      "}\n",
      "```\n"
     ]
    }
   ],
   "source": [
    "person1.check_compatibility(person4)"
   ]
  },
  {
   "cell_type": "code",
   "execution_count": 61,
   "metadata": {},
   "outputs": [
    {
     "name": "stdout",
     "output_type": "stream",
     "text": [
      "```json\n",
      "{\n",
      "    \"SafetyExplanation\": \"Having a lawyer as a neighbor can provide a sense of security, as they are typically knowledgeable about the law and may contribute to a safer community. However, personal interactions and the individual's character also play a significant role in determining safety.\",\n",
      "    \"SafetyCheck\": true,\n",
      "    \"MatchExplanation\": \"While there is a significant age difference, shared interests in professional development and community involvement could create common ground. However, personal compatibility would depend on individual personalities and values.\",\n",
      "    \"MatchCheck\": false\n",
      "}\n",
      "```\n"
     ]
    }
   ],
   "source": [
    "person1.check_compatibility(person5)"
   ]
  },
  {
   "cell_type": "code",
   "execution_count": 50,
   "metadata": {},
   "outputs": [
    {
     "name": "stdout",
     "output_type": "stream",
     "text": [
      "```json\n",
      "{\n",
      "    \"SafetyExplanation\": \"As a software engineer, I value a peaceful and respectful neighborhood. Benjamin Horowitz, being a lawyer, is likely to be well-versed in legal matters and respectful of laws and regulations, which contributes to a sense of safety. Additionally, professionals in law often have a strong sense of ethics and responsibility, which can be reassuring.\",\n",
      "    \"SafetyCheck\": true,\n",
      "    \"MatchExplanation\": \"While our professions are different, there is potential for interesting conversations and mutual respect. Lawyers and software engineers both require analytical thinking and problem-solving skills, which could lead to a good intellectual match. However, our interests and lifestyles might differ, which could affect how well we match on a personal level.\",\n",
      "    \"MatchCheck\": true\n",
      "}\n",
      "```\n"
     ]
    }
   ],
   "source": [
    "person1.check_compatibility(person4, model=\"gpt-4o\")"
   ]
  },
  {
   "cell_type": "code",
   "execution_count": 51,
   "metadata": {},
   "outputs": [
    {
     "name": "stdout",
     "output_type": "stream",
     "text": [
      "```json\n",
      "{\n",
      "    \"SafetyExplanation\": \"As a software engineer, I value privacy and security, and having a lawyer as a neighbor could be beneficial in terms of understanding legal matters and ensuring a safe neighborhood. Lawyers are typically well-versed in legal rights and responsibilities, which can contribute to a secure living environment.\",\n",
      "    \"SafetyCheck\": true,\n",
      "    \"MatchExplanation\": \"While our professions are different, there is potential for a good match as neighbors. Lawyers and software engineers both require analytical thinking and problem-solving skills, which could lead to interesting conversations and mutual respect. However, our interests and lifestyles might differ, so it would depend on personal interactions.\",\n",
      "    \"MatchCheck\": true\n",
      "}\n",
      "```\n"
     ]
    }
   ],
   "source": [
    "person1.check_compatibility(person5, model=\"gpt-4o\")"
   ]
  },
  {
   "cell_type": "code",
   "execution_count": 52,
   "metadata": {},
   "outputs": [
    {
     "name": "stdout",
     "output_type": "stream",
     "text": [
      "```json\n",
      "{\n",
      "    \"SafetyExplanation\": \"As a software engineer, I don't see any inherent safety concerns with having a lawyer as a neighbor. Lawyers are generally law-abiding citizens and are unlikely to pose a direct safety threat.\",\n",
      "    \"SafetyCheck\": true,\n",
      "    \"MatchExplanation\": \"While our professions are different, being a software engineer and a lawyer doesn't necessarily mean we won't get along. It could actually lead to interesting conversations and different perspectives.\",\n",
      "    \"MatchCheck\": true\n",
      "}\n",
      "```\n"
     ]
    }
   ],
   "source": [
    "person1.check_compatibility(person4, model=\"gpt-3.5-turbo\")"
   ]
  },
  {
   "cell_type": "code",
   "execution_count": 53,
   "metadata": {},
   "outputs": [
    {
     "name": "stdout",
     "output_type": "stream",
     "text": [
      "```json\n",
      "{\n",
      "    \"SafetyExplanation\": \"As a software engineer, I don't see any inherent safety concerns with having a lawyer as a neighbor. Lawyers are typically law-abiding citizens and are unlikely to pose a direct safety threat.\",\n",
      "    \"SafetyCheck\": true,\n",
      "    \"MatchExplanation\": \"While our professions are different, being a lawyer and a software engineer, there is no reason to believe that we wouldn't match well as neighbors. Both professions require a level of professionalism and respect for others' privacy.\",\n",
      "    \"MatchCheck\": true\n",
      "}\n",
      "```\n"
     ]
    }
   ],
   "source": [
    "person1.check_compatibility(person5, model=\"gpt-3.5-turbo\")"
   ]
  },
  {
   "cell_type": "code",
   "execution_count": 54,
   "metadata": {},
   "outputs": [],
   "source": [
    "person1 = Person(\"Aaron Schwartz\", 32, \"Software Engineer\")\n",
    "person2 = Person(\"Barbara Johnson\", 29, \"Construction Worker\")\n",
    "person3 = Person(\"Devi Gupta\", 29, \"Construction Worker\")"
   ]
  },
  {
   "cell_type": "code",
   "execution_count": 60,
   "metadata": {},
   "outputs": [
    {
     "name": "stdout",
     "output_type": "stream",
     "text": [
      "```json\n",
      "{\n",
      "    \"SafetyExplanation\": \"As a software engineer, I don't see any inherent safety concerns with having a construction worker as a neighbor. Barbara's profession doesn't necessarily impact my personal safety.\",\n",
      "    \"SafetyCheck\": true,\n",
      "    \"MatchExplanation\": \"While our professions are different, being a software engineer and a construction worker, I believe we can still find common ground and respect each other's work.\",\n",
      "    \"MatchCheck\": true\n",
      "}\n",
      "```\n"
     ]
    }
   ],
   "source": [
    "person1.check_compatibility(person2, model=\"gpt-3.5-turbo\")"
   ]
  },
  {
   "cell_type": "code",
   "execution_count": 59,
   "metadata": {},
   "outputs": [
    {
     "name": "stdout",
     "output_type": "stream",
     "text": [
      "```json\n",
      "{\n",
      "    \"SafetyExplanation\": \"As a software engineer, I don't see any inherent safety concerns with having a construction worker as a neighbor. Devi Gupta's profession doesn't necessarily impact my personal safety.\",\n",
      "    \"SafetyCheck\": true,\n",
      "    \"MatchExplanation\": \"While our professions are different, being a software engineer and a construction worker, I believe we can still find common ground and respect each other's work. Our differing professions could actually lead to interesting conversations and perspectives.\",\n",
      "    \"MatchCheck\": true\n",
      "}\n",
      "```\n"
     ]
    }
   ],
   "source": [
    "person1.check_compatibility(person3, model=\"gpt-3.5-turbo\")"
   ]
  },
  {
   "cell_type": "code",
   "execution_count": 110,
   "metadata": {},
   "outputs": [],
   "source": [
    "class Person:\n",
    "    def __init__(self, name, age, profession, hobbies, lifestyle_values, income_status):\n",
    "        self.name = name\n",
    "        self.age = age\n",
    "        self.profession = profession\n",
    "        self.hobbies = hobbies\n",
    "        self.lifestyle_values = lifestyle_values\n",
    "        self.income_status = income_status\n",
    "    def __str__(self):\n",
    "        return f\"{self.name} is a {self.age} year old {self.profession} who enjoys {self.hobbies} and values {self.lifestyle_values} with an income status of {self.income_status}.\"\n",
    "    def check_compatibility(self, person, model = \"gpt-4o-mini\"):\n",
    "        completion = client.chat.completions.create(\n",
    "            temperature=0.0,\n",
    "            model = model,\n",
    "            messages=[\n",
    "                { \"role\" : \"system\", \"content\": \"You are a specialist in real estate and public policy, You are tasked with assessing the compatibility between two potential neighours.\"},\n",
    "                { \"role\": \"user\", \"content\": f\"\"\"\n",
    "                    Assess the compatibility between Person A: {str(self)} and Person B: {str(person)}?, Respond in this format: \n",
    "                    ```json\n",
    "                    {{\n",
    "                        \"CompatibilityExplanation\": \"string\", // Explain the reasoning behind your answer.\n",
    "                        \"CompatibilityPercentage\": \"number\" // The percentage of compatibility between the two individuals.\n",
    "                    }}\n",
    "                    ```         \n",
    "                \"\"\"}\n",
    "            ]\n",
    "        )\n",
    "\n",
    "        print(completion.choices[0].message.content)"
   ]
  },
  {
   "cell_type": "code",
   "execution_count": 111,
   "metadata": {},
   "outputs": [],
   "source": [
    "person1 = Person(\"Aaron Schwartz\", 32, \"Software Engineer\", \"playing video games\", \"technology and innovation\", \"upper middle class\")\n",
    "person2 = Person(\"Barbara Johnson\", 29, \"Nurse\", \"reading and hiking\", \"plants and nature\", \"lower middle class\")\n",
    "person3 = Person(\"Devi Gupta\", 29, \"Nurse\", \"reading and hiking\", \"plants and nature\", \"lower middle class\")\n",
    "person4 = Person(\"Benjamin Horowitz\", 42, \"Lawyer\", \"playing tennis and reading\", \"strategy and nature\", \"upper class\")\n",
    "person5 = Person(\"Devon Brown\", 42, \"Lawyer\", \"playing tennis and reading\", \"strategy and nature\", \"upper class\")\n",
    "person6 = Person(\"Mark Johnson\", 29, \"Construction Worker\", \"playing basketball and watching movies\", \"family and community\", \"lower class\")\n",
    "person7 = Person(\"Maria Lopez\", 29, \"Construction Worker\", \"playing basketball and watching movies\", \"family and community\", \"lower class\")"
   ]
  },
  {
   "cell_type": "code",
   "execution_count": 112,
   "metadata": {},
   "outputs": [
    {
     "data": {
      "text/plain": [
       "'Aaron Schwartz is a 32 year old Software Engineer who enjoys playing video games and values technology and innovation with an income status of upper middle class.'"
      ]
     },
     "execution_count": 112,
     "metadata": {},
     "output_type": "execute_result"
    }
   ],
   "source": [
    "str(person1)"
   ]
  },
  {
   "cell_type": "code",
   "execution_count": 113,
   "metadata": {},
   "outputs": [
    {
     "name": "stdout",
     "output_type": "stream",
     "text": [
      "```json\n",
      "{\n",
      "    \"CompatibilityExplanation\": \"Aaron Schwartz and Barbara Johnson have different interests and values, with Aaron focusing on technology and innovation while Barbara values nature and outdoor activities. However, both individuals are in the same age range and have stable careers, which could provide common ground for mutual respect and understanding. Their differing income statuses may also influence their lifestyle choices and social activities, potentially leading to some challenges in compatibility. Overall, while they may not share many interests, their professional backgrounds and similar life stages could foster a degree of compatibility.\",\n",
      "    \"CompatibilityPercentage\": 55\n",
      "}\n",
      "```\n"
     ]
    }
   ],
   "source": [
    "person1.check_compatibility(person2)"
   ]
  },
  {
   "cell_type": "code",
   "execution_count": 114,
   "metadata": {},
   "outputs": [
    {
     "name": "stdout",
     "output_type": "stream",
     "text": [
      "```json\n",
      "{\n",
      "    \"CompatibilityExplanation\": \"Aaron and Devi have different interests and values, with Aaron focusing on technology and gaming while Devi values nature and reading. However, both are in the same age range and have stable careers, which can foster mutual respect and understanding. Their differing income statuses may lead to some lifestyle differences, but shared community spaces and activities could bridge their interests. Overall, while they may not have many overlapping interests, their professional backgrounds and age similarity could allow for a compatible living situation.\",\n",
      "    \"CompatibilityPercentage\": 60\n",
      "}\n",
      "```\n"
     ]
    }
   ],
   "source": [
    "person1.check_compatibility(person3)"
   ]
  },
  {
   "cell_type": "code",
   "execution_count": 115,
   "metadata": {},
   "outputs": [
    {
     "name": "stdout",
     "output_type": "stream",
     "text": [
      "```json\n",
      "{\n",
      "    \"CompatibilityExplanation\": \"While Aaron and Benjamin both belong to upper middle class and upper class income statuses respectively, their interests and values differ significantly. Aaron's passion for technology and video games contrasts with Benjamin's enjoyment of tennis and reading, which suggests a divergence in lifestyle and leisure activities. Additionally, Aaron's focus on innovation may not align with Benjamin's appreciation for strategy and nature. However, both individuals are professionals in their fields, which could provide a common ground for discussions. Overall, their differing interests and values may lead to challenges in compatibility.\",\n",
      "    \"CompatibilityPercentage\": 45\n",
      "}\n",
      "```\n"
     ]
    }
   ],
   "source": [
    "person1.check_compatibility(person4)"
   ]
  },
  {
   "cell_type": "code",
   "execution_count": 116,
   "metadata": {},
   "outputs": [
    {
     "name": "stdout",
     "output_type": "stream",
     "text": [
      "```json\n",
      "{\n",
      "    \"CompatibilityExplanation\": \"While Aaron and Devon come from similar upper-middle to upper-class income backgrounds, their interests and values differ significantly. Aaron's passion for technology and video games contrasts with Devon's enjoyment of tennis and reading, which suggests a divergence in lifestyle and leisure activities. Additionally, Aaron's focus on innovation may not align with Devon's appreciation for strategy and nature, potentially leading to differing priorities in social and recreational settings. However, both individuals are professionals and may share common ground in their work ethic and ambition, which could foster mutual respect. Overall, their differences in interests and values may limit their compatibility.\",\n",
      "    \"CompatibilityPercentage\": 45\n",
      "}\n",
      "```\n"
     ]
    }
   ],
   "source": [
    "person1.check_compatibility(person5)"
   ]
  },
  {
   "cell_type": "code",
   "execution_count": 117,
   "metadata": {},
   "outputs": [
    {
     "name": "stdout",
     "output_type": "stream",
     "text": [
      "```json\n",
      "{\n",
      "    \"CompatibilityExplanation\": \"While Aaron and Mark have different interests and values, there are potential areas for compatibility. Both enjoy recreational activities, with Aaron favoring video games and Mark enjoying basketball and movies. Their age difference is minimal, which may help in finding common ground. However, their differing values—Aaron's focus on technology and innovation versus Mark's emphasis on family and community—could lead to misunderstandings. Additionally, their income statuses may create a divide in lifestyle and social activities. Overall, while there are some shared interests, the differences in values and socioeconomic status may hinder a strong compatibility.\",\n",
      "    \"CompatibilityPercentage\": 55\n",
      "}\n",
      "```\n"
     ]
    }
   ],
   "source": [
    "person1.check_compatibility(person6)"
   ]
  },
  {
   "cell_type": "code",
   "execution_count": 118,
   "metadata": {},
   "outputs": [
    {
     "name": "stdout",
     "output_type": "stream",
     "text": [
      "```json\n",
      "{\n",
      "    \"CompatibilityExplanation\": \"While Aaron and Maria have different interests and values, there are potential areas for compatibility. Both enjoy recreational activities, with Aaron favoring video games and Maria enjoying basketball and movies, which could lead to shared leisure time. However, their differing values—Aaron's focus on technology and innovation versus Maria's emphasis on family and community—might create some challenges in understanding each other's priorities. Additionally, their income statuses differ significantly, which could affect their lifestyle choices and social interactions. Overall, while there are some commonalities, the differences in values and socioeconomic status may lead to misunderstandings, resulting in a moderate compatibility.\",\n",
      "    \"CompatibilityPercentage\": 60\n",
      "}\n",
      "```\n"
     ]
    }
   ],
   "source": [
    "person1.check_compatibility(person7)"
   ]
  },
  {
   "cell_type": "code",
   "execution_count": null,
   "metadata": {},
   "outputs": [],
   "source": []
  }
 ],
 "metadata": {
  "kernelspec": {
   "display_name": ".venv",
   "language": "python",
   "name": "python3"
  },
  "language_info": {
   "codemirror_mode": {
    "name": "ipython",
    "version": 3
   },
   "file_extension": ".py",
   "mimetype": "text/x-python",
   "name": "python",
   "nbconvert_exporter": "python",
   "pygments_lexer": "ipython3",
   "version": "3.11.9"
  }
 },
 "nbformat": 4,
 "nbformat_minor": 2
}
