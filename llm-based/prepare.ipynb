{
 "cells": [
  {
   "cell_type": "markdown",
   "metadata": {},
   "source": [
    "## Agents.\n",
    "\n",
    "Now we have agents in this format:\n",
    "\n",
    "```json\n",
    "{\n",
    "        \"id\": 0,\n",
    "        \"name\": \"Simran Walia\",\n",
    "        \"name_group\": \"north\",\n",
    "        \"occupation\": \"Forestry Technician\",\n",
    "        \"occupation_group\": \"Agriculture\",\n",
    "        \"age\": 26,\n",
    "        \"age_group\": \"25\\u201329\",\n",
    "        \"income\": 193452,\n",
    "        \"income_group\": \"Lower-Middle Class\",\n",
    "        \"hobbies\": \"trading cards and toy collecting\",\n",
    "        \"hobbies_group\": \"collecting\"\n",
    "}\n",
    "```\n",
    "\n",
    "When performing schelling simulation, we would need to perform `calculate_similarity` between two distinct `id`s. <br/>\n",
    "The result would be invariant between rounds. Hence we can pre-compute the similarity and store them to avoid repeated computation (_and save on bills_)"
   ]
  },
  {
   "cell_type": "code",
   "execution_count": 31,
   "metadata": {},
   "outputs": [],
   "source": [
    "api_key = None\n",
    "\n",
    "with open(\".env\", \"r\") as f:\n",
    "    for line in f:\n",
    "        if line.startswith(\"OPENAI_API_KEY\"):\n",
    "            api_key = line.split(\"=\")[1].strip()\n",
    "\n",
    "from openai import OpenAI\n",
    "client = OpenAI(api_key=api_key)"
   ]
  },
  {
   "cell_type": "code",
   "execution_count": 2,
   "metadata": {},
   "outputs": [],
   "source": [
    "class Person:\n",
    "    def __init__(self, **kwargs):\n",
    "        ## assign all args to self.\n",
    "        for key, value in kwargs.items():\n",
    "            setattr(self, key, value)\n",
    "    def __str__(self):\n",
    "        return f\"\"\"\n",
    "            {self.name} is a {self.occupation} who is {self.age} years old.\n",
    "            They have an annual income of {self.income}\n",
    "            They are quite interested in {self.hobbies}\n",
    "        \"\"\""
   ]
  },
  {
   "cell_type": "code",
   "execution_count": 3,
   "metadata": {},
   "outputs": [],
   "source": [
    "class USPerson(Person):\n",
    "    def __init__(self, **kwargs):\n",
    "        super().__init__(**kwargs)\n",
    "        self.income = str(self.income) + \" USD\""
   ]
  },
  {
   "cell_type": "code",
   "execution_count": 4,
   "metadata": {},
   "outputs": [],
   "source": [
    "class IndiaPerson(Person):\n",
    "    def __init__(self, **kwargs):\n",
    "        super().__init__(**kwargs)\n",
    "        self.income = str(self.income) + \" INR\""
   ]
  },
  {
   "cell_type": "code",
   "execution_count": 5,
   "metadata": {},
   "outputs": [],
   "source": [
    "import json\n",
    "with open(\"raw_agents/india_exp_agents_sampled.json\", \"r\") as f:\n",
    "    india_agents_sampled = json.load(f)"
   ]
  },
  {
   "cell_type": "code",
   "execution_count": 6,
   "metadata": {},
   "outputs": [],
   "source": [
    "india_agents_sampled = [IndiaPerson(**agent) for agent in india_agents_sampled]"
   ]
  },
  {
   "cell_type": "code",
   "execution_count": 7,
   "metadata": {},
   "outputs": [
    {
     "data": {
      "text/plain": [
       "'361034 INR'"
      ]
     },
     "execution_count": 7,
     "metadata": {},
     "output_type": "execute_result"
    }
   ],
   "source": [
    "india_agents_sampled[0].income"
   ]
  },
  {
   "cell_type": "code",
   "execution_count": 8,
   "metadata": {},
   "outputs": [],
   "source": [
    "def check_compatability_prepare_messages(person1, person2):\n",
    "    messages=[\n",
    "        { \"role\" : \"system\", \"content\": \"You are a specialist in real estate and public policy, You are tasked with assessing the compatibility between two potential neighours.\"},\n",
    "        { \"role\": \"user\", \"content\": f\"\"\"\n",
    "            Assess the compatibility between\n",
    "                Person A: {str(person1)} \n",
    "                \n",
    "                and\n",
    "            \n",
    "            Person B: {str(person2)}, Respond in this format: \n",
    "            ```json\n",
    "            {{\n",
    "                \"CompatibilityExplanation\": \"string\", // Explain the reasoning behind your answer.\n",
    "                \"CompatibilityPercentage\": \"number\" // The percentage of compatibility between the two individuals.\n",
    "            }}\n",
    "            ```         \n",
    "        \"\"\"}\n",
    "    ]\n",
    "\n",
    "    return messages"
   ]
  },
  {
   "cell_type": "code",
   "execution_count": 9,
   "metadata": {},
   "outputs": [
    {
     "data": {
      "text/plain": [
       "(30989532, 30505944)"
      ]
     },
     "execution_count": 9,
     "metadata": {},
     "output_type": "execute_result"
    }
   ],
   "source": [
    "import tiktoken\n",
    "\n",
    "total_tokens_gpt35_turbo = 0\n",
    "total_tokens_gpt4o_mini = 0\n",
    "\n",
    "encoder_gpt35_turbo = tiktoken.encoding_for_model(\"gpt-3.5-turbo\")\n",
    "encoder_gpt4o_mini = tiktoken.encoding_for_model(\"gpt-4o-mini\")\n",
    "\n",
    "for ag_i in india_agents_sampled:\n",
    "    for ag_j in india_agents_sampled:\n",
    "        id_i, id_j = ag_i.id, ag_j.id\n",
    "        if id_i == id_j:\n",
    "            continue\n",
    "        messages = check_compatability_prepare_messages(ag_i, ag_j)\n",
    "\n",
    "        message_token_cost = 3 ## we dont know for 4omini.\n",
    "        system_token_cost = 2\n",
    "\n",
    "        total_tokens_gpt35_turbo += system_token_cost\n",
    "        total_tokens_gpt4o_mini += system_token_cost\n",
    "\n",
    "        for message in messages:\n",
    "            total_tokens_gpt35_turbo += message_token_cost\n",
    "            total_tokens_gpt35_turbo += len(encoder_gpt35_turbo.encode(message[\"role\"]))\n",
    "            total_tokens_gpt35_turbo += len(encoder_gpt35_turbo.encode(message[\"content\"]))\n",
    "            total_tokens_gpt4o_mini += message_token_cost\n",
    "            total_tokens_gpt4o_mini += len(encoder_gpt4o_mini.encode(message[\"role\"]))\n",
    "            total_tokens_gpt4o_mini += len(encoder_gpt4o_mini.encode(message[\"content\"]))\n",
    "\n",
    "total_tokens_gpt35_turbo, total_tokens_gpt4o_mini"
   ]
  },
  {
   "cell_type": "code",
   "execution_count": 10,
   "metadata": {},
   "outputs": [
    {
     "data": {
      "text/plain": [
       "149"
      ]
     },
     "execution_count": 10,
     "metadata": {},
     "output_type": "execute_result"
    }
   ],
   "source": [
    "sample_output_4omini = encoder_gpt4o_mini.encode('```json\\n{\\n    \"CompatibilityExplanation\": \"Person A and Person B have some commonalities in terms of their occupations being in the agriculture sector. However, their age difference is quite significant, with Person A being 26 and Person B being 61. This age gap may lead to differences in lifestyle preferences, priorities, and interests. Person A enjoys hobbies related to collecting, while Person B\\'s hobbies are more intellectually focused. Additionally, there is a notable income disparity between the two individuals, with Person B belonging to the high-income group and Person A being in the lower-middle class. These differences in age, interests, and income may impact the compatibility between Person A and Person B.\",\\n    \"CompatibilityPercentage\": \"50\"\\n}\\n```')\n",
    "len(sample_output_4omini)"
   ]
  },
  {
   "cell_type": "code",
   "execution_count": 11,
   "metadata": {},
   "outputs": [],
   "source": [
    "# print(india_agents_sampled[0])"
   ]
  },
  {
   "cell_type": "code",
   "execution_count": 12,
   "metadata": {},
   "outputs": [],
   "source": [
    "# 150 x 400 x 400 tokens in output\n",
    "# 4omini\n",
    "# 46 mn -- input : 30 x 0.15 = 4$\n",
    "# 25 mn -- output: 15$\n",
    "\n",
    "# -- alone costs ~19-20$"
   ]
  },
  {
   "cell_type": "code",
   "execution_count": 13,
   "metadata": {},
   "outputs": [],
   "source": [
    "args = []\n",
    "\n",
    "for agent_i in india_agents_sampled:\n",
    "    for agent_j in india_agents_sampled:\n",
    "        id_i, id_j = agent_i.id, agent_j.id\n",
    "        if id_i == id_j:\n",
    "            continue\n",
    "        messages = check_compatability_prepare_messages(agent_i, agent_j)\n",
    "        args.append((id_i, id_j, messages))"
   ]
  },
  {
   "cell_type": "code",
   "execution_count": 14,
   "metadata": {},
   "outputs": [],
   "source": [
    "def check_compatability_parallel(id_1, id_2, messages, model):\n",
    "    print(f\"Checking compatibility between {id_1} and {id_2}\")\n",
    "    completion = client.chat.completions.create(\n",
    "        temperature=0,\n",
    "        top_p=0.95,\n",
    "        model = model,\n",
    "        messages=messages\n",
    "    )\n",
    "\n",
    "    content = completion.choices[0].message.content\n",
    "    print(f\"Compatibility between {id_1} and {id_2} is {content}\")\n",
    "\n",
    "    return id_1, id_2, content"
   ]
  },
  {
   "cell_type": "code",
   "execution_count": 15,
   "metadata": {},
   "outputs": [],
   "source": [
    "# args[2]"
   ]
  },
  {
   "cell_type": "markdown",
   "metadata": {},
   "source": [
    "### Side Note:\n",
    "\n",
    "- The temperature has been set to 0, the top-P to 0.95.\n",
    "- Ofc, this means the top choice of the sample is always chosen.\n",
    "- This should also mean that the response is highly deterministic, it would be very unlikely that a token that belongs to `0.05%` of the probability at any step eventually leads to the most likely sequence. "
   ]
  },
  {
   "cell_type": "code",
   "execution_count": 16,
   "metadata": {},
   "outputs": [],
   "source": [
    "completion_results = {}\n",
    "\n",
    "with open(\"logs_run0.txt\", \"r\") as f:\n",
    "    full_data = f.read()"
   ]
  },
  {
   "cell_type": "code",
   "execution_count": 17,
   "metadata": {},
   "outputs": [
    {
     "data": {
      "text/plain": [
       "'score_262_1653\\n```json\\n{\\n    \"CompatibilityExplanation\": \"Neha and Sunil have different professional backgrounds and interests, which may lead to a diverse neighborhood dynamic. Neha\\'s interest in hosting events and group gaming suggests she enjoys social interactions and community engagement, while Sunil\\'s interests in martial arts and dancing indicate a focus on physical activity and personal discipline. Their age difference is minimal, and both are in similar life stages, which can foster mutual understanding. However, their differing interests may lead to limited common ground for social activities. Overall, they could complement each other well if they are open to exploring each other\\'s hobbies.\",\\n    \"CompatibilityPercentage\": 65\\n}\\n```score_262_2323\\n```json\\n{\\n    \"CompatibilityExplanation\": \"Neha and Madhavan have different interests and lifestyles that may affect their compatibility as neighbors. Neha enjoys hosting events and group gaming, which suggests she may have a more social and active lifestyle, potentially leading to noise and gatherings that could disrupt a quieter environment. On the other hand, Madhavan\\'s interests in aerobics and swimming indicate a focus on fitness and possibly a preference for a quieter, more personal space. Additionally, their age difference of 10 years may influence their social circles and lifestyle preferences. However, both individuals are working-class professionals, which may provide a common ground in terms of understanding each other\\'s work commitments. Overall, while there are some differences in interests and lifestyle, they may still find common ground in their professional lives.\",\\n    \"CompatibilityPercentage\": 60\\n}\\n```score_262_928\\n```json\\n{\\n    \"CompatibilityExplanation\": \"Neha and Mingma have different professional backgrounds and interests, which may lead to a diverse and enriching neighborhood dynamic. Neha\\'s interest in hosting events and group gaming suggests she enjoys social interactions and community engagement, while Mingma\\'s focus on trading cards and vintage items indicates a more niche hobby that may not involve as much social interaction. However, both individuals have a moderate income level, which suggests they may have similar lifestyle expectations. The difference in interests could either complement each other or lead to potential misunderstandings if not managed well. Overall, their compatibility is moderate due to their differing interests but similar income levels.\",\\n    \"CompatibilityPercentage\": 65\\n}\\n```score_262_33\\n```json\\n{\\n    \"CompatibilityExplanation\": \"Neha and Anmol have different professional backgrounds and interests, which may lead to a diverse and enriching neighborhood dynamic. Neha\\'s interest in hosting events and group gaming suggests a sociable and community-oriented personality, while Anmol\\'s focus on writing algorithms and coding indicates a more introverted and analytical nature. Their age difference of 14 years may also influence their lifestyle preferences and social activities. However, both individuals have stable incomes, which can contribute to a harmonious living environment. Overall, while they may not share many common interests, their differences could complement each other, leading to a moderate level of compatibility.\",\\n    \"CompatibilityPercentage\": 60\\n}\\n```score_262_935\\n```json\\n{\\n    \"CompatibilityExplanation\": \"Neha and Phurba have different interests and lifestyles that may affect their compatibility as neighbors. Neha enjoys hosting events and group gaming, which suggests a more social and communal lifestyle. In contrast, Phurba\\'s interests in rock climbing and hiking indicate a preference for outdoor activities and possibly a more solitary or adventurous lifestyle. Additionally, there is a significant difference in their annual incomes, with Phurba earning substantially more than Neha, which could lead to differing expectations regarding neighborhood amenities and social interactions. Overall, while they may share a general respect for each other\\'s professions and lifestyles, their differing interests and income levels suggest a moderate level of compatibility.\",\\n    \"CompatibilityPercentage\": 55\\n}\\n```score_262_2332\\n```json\\n{\\n    \"CompatibilityExplanation\": \"Neha and Shruti have different interests and income levels, which may affect their compatibility as neighbors. Neha enjoys hosting events and group gaming, indicating a preference for social interactions and gatherings. In contrast, Shruti\\'s interests in photography and playing musical instruments suggest a more solitary or artistic lifestyle. The significant difference in their annual incomes may also influence their lifestyle choices and social activities. However, both individuals are in the same age range and could potentially find common ground in community activities or shared interests in arts and culture. Overall, while there are differences, there is potential for compatibility if they are open to each other\\'s lifestyles.\",\\n    \"CompatibilityPercentage\": 60\\n}\\n```score_262_2844\\n```json\\n{\\n    \"CompatibilityExplanation\": \"Neha and Pradeep have different interests and professions, which may lead to a diverse neighborhood dynamic. Neha\\'s interest in hosting events and group gaming suggests she enjoys social interactions and gatherings, while Pradeep\\'s hobbies in pottery and music indicate a more solitary or artistic inclination. Their age difference of 8 years may also influence their lifestyle preferences. However, both individuals have similar income levels, which could facilitate a mutual understanding of financial responsibilities. Overall, while they may not share many common interests, their differences could complement each other, leading to a balanced neighborhood environment.\",\\n    \"CompatibilityPercentage\": 65\\n}\\n```score_262_122\\n```json\\n{\\n    \"CompatibilityExplanation\": \"Neha and Anjali are both in similar age brackets and have professional careers, which can foster mutual respect and understanding. However, their interests differ significantly; Neha enjoys hosting events and group gaming, while Anjali is more inclined towards team sports and networking. This difference in leisure activities may lead to challenges in finding common ground for social interactions. Additionally, their income disparity could influence their lifestyle choices and social activities, potentially leading to differing expectations in a neighborhood setting. Overall, while they share some commonalities, their differing interests and income levels may limit their compatibility.\",\\n    \"CompatibilityPercentage\": 60\\n}\\n```score_262_899\\n```json\\n{\\n    \"CompatibilityExplanation\": \"Neha and Dema have similar income levels, which suggests they may have comparable lifestyles. Both individuals are interested in hosting and organizing events, albeit with different focuses; Neha enjoys group gaming while Dema is more inclined towards charity events. This shared interest in events could foster a good neighborly relationship, as they may collaborate or support each other\\'s activities. However, their specific interests may lead to different social dynamics, with Neha potentially hosting more casual gatherings and Dema focusing on community-oriented events. Overall, their compatibility is moderate due to their shared interests in events but differing focuses.\",\\n    \"CompatibilityPercentage\": 70\\n}\\n```score_262_191\\n```json\\n{\\n    \"CompatibilityExplanation\": \"Neha and Jyoti have different professional backgrounds and interests, which may lead to a diverse and enriching neighborhood dynamic. Neha\\'s interest in hosting events and group gaming suggests a sociable and community-oriented personality, while Jyoti\\'s focus on graphic design and photography indicates a more creative and possibly introverted nature. The age difference of 23 years may also influence their compatibility, as they may have different lifestyles and social circles. However, their willingness to engage in their respective interests could foster a unique relationship. Overall, while they may not share many common interests, their differences could complement each other, leading to a moderate level of compatibility.\",\\n    \"CompatibilityPercentage\": 60\\n}\\n```score_262_1978\\n```json\\n{\\n    \"CompatibilityExplanation\": \"Neha and Ipsita have different professional backgrounds and interests, which may lead to a diverse and enriching neighborhood dynamic. Neha\\'s interest in hosting events and group gaming suggests a sociable and interactive lifestyle, while Ipsita\\'s focus on debating and community gardening indicates a more community-oriented and possibly quieter approach. Their age difference is minimal, and both are in similar life stages, which can foster mutual understanding. However, their differing interests may lead to occasional conflicts in lifestyle preferences, particularly regarding noise levels and social gatherings. Overall, they can complement each other well, but their compatibility may depend on their willingness to engage with each other\\'s hobbies.\",\\n    \"CompatibilityPercentage\": 70\\n}\\n```score_262_2024\\n```json\\n{\\n    \"CompatibilityExplanation\": \"Neha and Geetanjali have significant differences in age, income, and interests. Neha, being 47, is in a different life stage compared to 24-year-old Geetanjali, which may lead to differing perspectives and priorities. Neha\\'s interest in hosting events and group gaming contrasts with Geetanjali\\'s focus on martial arts and cycling, indicating that their social activities may not align. Additionally, the substantial difference in their annual incomes could create disparities in lifestyle and spending habits, potentially leading to misunderstandings. Overall, while they may find common ground in their professional backgrounds, the differences in age, interests, and financial situations suggest limited compatibility.\",\\n    \"CompatibilityPercentage\": 30\\n}\\n```score_262_1757\\n```json\\n{\\n    \"CompatibilityExplanation\": \"Neha and Amitava share a common interest in hosting ev'"
      ]
     },
     "execution_count": 17,
     "metadata": {},
     "output_type": "execute_result"
    }
   ],
   "source": [
    "full_data[0:10000]"
   ]
  },
  {
   "cell_type": "code",
   "execution_count": 18,
   "metadata": {},
   "outputs": [],
   "source": [
    "## score_{num0}_{num1}\\n is the key, the value is whatever is in-between.\n",
    "import re\n",
    "\n",
    "pattern = re.compile(r\"score_\\d+_\\d+\\n\")\n",
    "matches = pattern.finditer(full_data)\n",
    "\n",
    "for match in matches:\n",
    "    start, end = match.span()\n",
    "    key = full_data[start:end].strip()\n",
    "    value = full_data[end:].split(\"score\")[0]\n",
    "    completion_results[key] = value"
   ]
  },
  {
   "cell_type": "code",
   "execution_count": 19,
   "metadata": {},
   "outputs": [],
   "source": [
    "more_logs = [\"logs_run1.txt\", \"logs_run2.txt\", \"logs_run3.txt\"]\n",
    "\n",
    "for log_file in more_logs:\n",
    "    with open(log_file, \"r\") as f:\n",
    "        full_data = f.read()\n",
    "\n",
    "    pattern = re.compile(r\"score_\\d+_\\d+\\n\")\n",
    "    matches = pattern.finditer(full_data)\n",
    "\n",
    "    for match in matches:\n",
    "        start, end = match.span()\n",
    "        key = full_data[start:end].strip()\n",
    "        value = full_data[end:].split(\"score\")[0]\n",
    "        completion_results[key] = value"
   ]
  },
  {
   "cell_type": "code",
   "execution_count": 20,
   "metadata": {},
   "outputs": [
    {
     "data": {
      "text/plain": [
       "('score_491_1036', 10064)"
      ]
     },
     "execution_count": 20,
     "metadata": {},
     "output_type": "execute_result"
    }
   ],
   "source": [
    "list(completion_results.keys())[-1], len(completion_results)"
   ]
  },
  {
   "cell_type": "code",
   "execution_count": 21,
   "metadata": {},
   "outputs": [
    {
     "data": {
      "text/plain": [
       "'```json\\n{\\n    \"CompatibilityExplanation\": \"Lalit Ahuja and Anamika Mishra have different professional backgrounds and interests, which may lead to a diverse and enriching neighborhood dynamic. Lalit\\'s focus on aquaculture and interests in writing and sewing contrast with Anamika\\'s beekeeping and interests in debating and networking. Their age difference of 13 years may also influence their perspectives and lifestyle choices. However, both individuals have a stable income, which suggests financial stability. The compatibility is moderate due to their differing interests but could be enhanced by mutual respect and curiosity about each other\\'s professions.\",\\n    \"CompatibilityPercentage\": 60\\n}\\n```'"
      ]
     },
     "execution_count": 21,
     "metadata": {},
     "output_type": "execute_result"
    }
   ],
   "source": [
    "completion_results[list(completion_results.keys())[-1]]"
   ]
  },
  {
   "cell_type": "code",
   "execution_count": 22,
   "metadata": {},
   "outputs": [],
   "source": [
    "with open(\"logs_run_bb.txt\", \"r\") as f:\n",
    "    more_data = f.read()"
   ]
  },
  {
   "cell_type": "code",
   "execution_count": 23,
   "metadata": {},
   "outputs": [
    {
     "data": {
      "text/plain": [
       "'Checking compatibility between 491 and 885\\nChecking compatibility between 491 and 2975\\nChecking compatibility between 491 and 1741\\nChecking compatibility between 491 and 1853\\nCompatibility between 491 and 885 is ```json\\n{\\n    \"CompatibilityExplanation\": \"Lalit Ahuja and Dipanita Daimari have different professional backgrounds and interests, which may lead to a diverse but potentially harmonious neighborhood dynamic. Lalit\\'s focus on aquaculture and creative hobbies like writing and sewing contrasts with Dipanita\\'s technical interests in coding and philosophical pursuits. Their age difference of 14 years may also influence their lifestyle preferences and social interactions. However, both individuals have a stable income, which suggests financial stability. The compatibility is moderate due to their differing interests but could foster a unique exchange of ideas and perspectives.\",\\n    \"CompatibilityPercentage\": 60\\n}\\n```\\nChecking compatibility between 491 and 2920\\nCompatibility between 491 and 2975 is ```json\\n{\\n    \"CompatibilityExplanation\": \"Lalit Ahuja and Dilshad Nadar have different professional backgrounds and interests, which may lead to a diverse and enriching neighborhood dynamic. Lalit\\'s focus on aquaculture and interests in writing and sewing suggest a creative and possibly quieter lifestyle, while Dilshad\\'s role as a tour guide indicates a more social and outgoing nature, with interests in languages and puzzles. Their age difference is minimal, and both individuals have stable incomes, which can contribute to a harmonious living environment. However, their differing interests may lead to limited common ground for social interactions. Overall, they could complement each other well, but the differences in lifestyle and interests may also present challenges in compatibility.\",\\n    \"CompatibilityPercentage\": 70\\n}\\n```\\nChecking compatibility between 491 and 431\\nCompatibility between 491 and 1853 is ```json\\n{\\n    \"CompatibilityExplanation\": \"Lalit Ahuja and Arpita Dasgupta have different professional backgrounds, with Lalit specializing in aquaculture and Arpita in agronomy. Their interests also diverge, as Lalit enjoys writing and sewing, while Arpita is more inclined towards team sports and volunteering. However, both individuals work in the broader field of agriculture and environmental sciences, which could provide common ground for discussions and shared values. The age difference of 10 years may also influence their perspectives and lifestyle choices. Overall, while they have some commonalities in their professional fields, their personal interests and income levels suggest a moderate level of compatibility.\",\\n    \"CompatibilityPercentage\": 60\\n}\\n```\\nChecking compatibility between 491 and 1822\\nCompatibility between 491 and 1741 is ```json\\n{\\n    \"CompatibilityExplanation\": \"Lalit Ahuja and Tapati Ghosh have different professional backgrounds and interests, which may lead to limited common ground. Lalit, being an Aquaculture Specialist, may have a more nature-oriented lifestyle, while Tapati, as an Irrigation Engineer, is likely focused on water management and engineering. Their age difference of 18 years could also influence their perspectives and lifestyle choices. Additionally, their interests in writing and sewing versus toy collecting and trading cards suggest they may not share many hobbies. However, both work in fields related to water and agriculture, which could provide a basis for some shared discussions. Overall, their differences in income, age, and interests suggest a moderate level of compatibility.\",\\n    \"CompatibilityPercentage\": 45\\n}\\n```\\nChecking compatibility between 491 and 1547\\nCompatibility between 491 and 431 is ```json\\n{\\n    \"CompatibilityExplanation\": \"Lalit Ahuja and Tejpal Singh have some common interests in crafting activities, as both are involved in sewing and knitting, which could foster a friendly relationship. However, their age difference of 22 years may lead to differing lifestyles and perspectives. Additionally, their income disparity is significant, with Tejpal earning substantially more than Lalit, which could create potential social dynamics that may affect their compatibility. Overall, while they share some interests, the age gap and income difference may limit their compatibility.\",\\n    \"CompatibilityPercentage\": 60\\n}\\n```\\nChecking compatibility between 491 and 1772\\nCompatibility between 491 and 2920 is ```json\\n{\\n    \"CompatibilityExplanation\": \"Lalit Ahuja and Gopal Vyas have different professional backgrounds and income levels, which may lead to differing lifestyles and social circles. Lalit, as an Aquaculture Specialist, likely has a more stable and higher income, which may afford him different opportunities and interests compared to Gopal, a Construction Worker with a significantly lower income. Their interests also diverge; Lalit enjoys writing and sewing, while Gopal is focused on hosting events and volunteering. However, both individuals are engaged in productive activities and may find common ground in community involvement or shared values around work ethics. The age difference may also play a role in their compatibility, as Lalit is younger and may have different life priorities. Overall, while there are some differences, there are also potential areas for mutual respect and understanding, leading to a moderate level of compatibility.\",\\n    \"CompatibilityPercentage\": 60\\n}\\n```\\nChecking compatibility between 491 and 1504\\nCompatibility between 491 and 1822 is ```json\\n{\\n    \"CompatibilityExplanation\": \"Both individuals work in the same field of aquaculture, which can foster a shared understanding of their professional challenges and interests. However, they have a notable age difference of 20 years, which may influence their perspectives and lifestyle choices. Lalit is interested in writing and sewing, while Shubham enjoys graphic design and playing musical instruments, indicating different hobbies that may or may not overlap. Their income levels are relatively close, suggesting similar economic standings, which can facilitate a harmonious living environment. Overall, their shared profession provides a strong foundation for compatibility, but the age gap and differing interests may present some challenges.\",\\n    \"CompatibilityPercentage\": 70\\n}\\n```\\nChecking compatibility between 491 and 2534\\nCompatibility between 491 and 1547 is ```json\\n{\\n    \"CompatibilityExplanation\": \"Lalit Ahuja and Sanjay Prasad have different professional backgrounds, with Lalit specializing in aquaculture and Sanjay in crop farming. Their age difference of 18 years may influence their perspectives and lifestyle choices. However, both individuals have a connection to agriculture, which could foster mutual understanding and respect for each other\\'s work. Their interests diverge significantly, with Lalit focusing on writing and sewing, while Sanjay enjoys dancing and running. This difference in hobbies may limit their social interactions but could also provide opportunities for learning from each other\\'s interests. Overall, while there are some commonalities in their agricultural backgrounds, the differences in age, income, and personal interests suggest a moderate level of compatibility.\",\\n    \"CompatibilityPercentage\": 60\\n}\\n```\\nChecking compatibility between 491 and 932\\nCompatibility between 491 and 1772 is ```json\\n{\\n    \"CompatibilityExplanation\": \"Lalit Ahuja and Rituparna Sen have different professional backgrounds, with Lalit specializing in aquaculture and Rituparna in crop farming. Their interests also diverge, as Lalit enjoys writing and sewing, while Rituparna is interested in comic books and stamp collecting. However, both individuals are involved in agriculture-related fields, which may provide common ground for discussions and shared values regarding sustainability and food production. The age difference of 12 years may also influence their perspectives and lifestyle choices. Overall, while there are some differences in interests and income levels, their professional backgrounds may foster a degree of compatibility.\",\\n    \"CompatibilityPercentage\": 60\\n}\\n```\\nChecking compatibility between 491 and 1579\\nCompatibility between 491 and 1504 is ```json\\n{\\n    \"CompatibilityExplanation\": \"Lalit Ahuja and Ritesh Patnaik share a common interest in writing, which could foster a positive relationship between them. However, their professional backgrounds in aquaculture and beekeeping, while both related to agriculture, are quite different. Their income levels are also somewhat close, which may indicate similar lifestyle expectations. The age difference of 7 years is not significant and should not pose any compatibility issues. Overall, their shared interest in writing and similar income levels suggest a moderate level of compatibility.\",\\n    \"CompatibilityPercentage\": 65\\n}\\n```\\nChecking compatibility between 491 and 1421\\nCompatibility between 491 and 1579 is ```json\\n{\\n    \"CompatibilityExplanation\": \"Lalit Ahuja and Anupam Sengupta have some common interests, particularly in writing, which could foster a positive relationship as neighbors. However, their age difference of 15 years may lead to differing lifestyles and social circles. Additionally, their income levels are significantly different, with Lalit earning much more than Anupam, which could influence their spending habits and social activities. Overall, while there are some shared interests, the differences in age, income, and potentially lifestyle may create challenges in their compatibility as neighbors.\",\\n    \"CompatibilityPercentage\": 60\\n}\\n```\\nChecking compatibility between 491 and 1902\\nCompatibility between 491 and 2534 is ```json\\n{\\n    \"CompatibilityExplanation\": \"Lalit Ahuja and Shireen Anklesaria are both in similar age brackets, which may facilitate common interests and understanding. However, their income levels differ significantly, with Lalit earning substantially more than Shireen. This disparity could lead to difference'"
      ]
     },
     "execution_count": 23,
     "metadata": {},
     "output_type": "execute_result"
    }
   ],
   "source": [
    "more_data[0:10000]"
   ]
  },
  {
   "cell_type": "code",
   "execution_count": 24,
   "metadata": {},
   "outputs": [
    {
     "data": {
      "text/plain": [
       "20805"
      ]
     },
     "execution_count": 24,
     "metadata": {},
     "output_type": "execute_result"
    }
   ],
   "source": [
    "## Capture regex as \"Compatability between {num1} and {num2} is ```json{content}```\"\n",
    "\n",
    "log_pattern = re.compile(\n",
    "    r\"Compatibility between (\\d+) and (\\d+) is ```json\\s*{\\s*\"\n",
    "    r'\"CompatibilityExplanation\":\\s*\"([^\"]*)\",\\s*'\n",
    "    r'\"CompatibilityPercentage\":\\s*(\\d+)\\s*}\\s*```',\n",
    "    re.DOTALL\n",
    ")\n",
    "\n",
    "matches = log_pattern.finditer(more_data)\n",
    "matches_list = list(matches)\n",
    "\n",
    "len(matches_list)\n",
    "\n",
    "# for match in matches:\n",
    "    # print(match.groups())"
   ]
  },
  {
   "cell_type": "code",
   "execution_count": 25,
   "metadata": {},
   "outputs": [],
   "source": [
    "for match in matches_list:\n",
    "    id_1 = match.group(1)\n",
    "    id_2 = match.group(2)\n",
    "    content = {\n",
    "        \"CompatibilityExplanation\": match.group(3),\n",
    "        \"CompatibilityPercentage\": match.group(4)\n",
    "    }\n",
    "\n",
    "    completion_results[f\"score_{id_1}_{id_2}\"] = content"
   ]
  },
  {
   "cell_type": "code",
   "execution_count": 26,
   "metadata": {},
   "outputs": [
    {
     "data": {
      "text/plain": [
       "{'CompatibilityExplanation': 'Nivedita Puri and Tushar Noronha have significant differences in their professional backgrounds, income levels, and interests. Nivedita, as a civil engineer, has a higher income and is engaged in intellectual pursuits like chess and language learning, which may indicate a preference for structured and analytical activities. In contrast, Tushar, as a machine operator, has a much lower income and is interested in sewing and crafting, which are more hands-on and creative activities. These differences could lead to potential misunderstandings or conflicts in lifestyle and social interactions. However, both individuals are engaged in their respective fields and have hobbies that could provide opportunities for mutual respect and learning. Overall, while there are some commonalities in their work ethic, the stark differences in income and interests suggest a moderate level of compatibility.',\n",
       " 'CompatibilityPercentage': '45'}"
      ]
     },
     "execution_count": 26,
     "metadata": {},
     "output_type": "execute_result"
    }
   ],
   "source": [
    "completion_results[list(completion_results.keys())[-1]]"
   ]
  },
  {
   "cell_type": "code",
   "execution_count": 27,
   "metadata": {},
   "outputs": [],
   "source": [
    "from tenacity import retry, stop_after_attempt, wait_random_exponential"
   ]
  },
  {
   "cell_type": "code",
   "execution_count": 29,
   "metadata": {},
   "outputs": [],
   "source": [
    "@retry(stop=stop_after_attempt(6), wait=wait_random_exponential(multiplier=1, max=60))\n",
    "def check_compatability_with_backoff(id_1, id_2, messages, model):\n",
    "    return check_compatability_parallel(id_1, id_2, messages, model)"
   ]
  },
  {
   "cell_type": "code",
   "execution_count": null,
   "metadata": {},
   "outputs": [],
   "source": [
    "import concurrent.futures\n",
    "\n",
    "with concurrent.futures.ThreadPoolExecutor(max_workers=16) as executor:\n",
    "    results = {executor.submit(check_compatability_with_backoff, arg[0], arg[1], arg[2], \"gpt-4o-mini\"): arg for arg in args if f\"score_{arg[0]}_{arg[1]}\" not in completion_results}\n",
    "    for future in concurrent.futures.as_completed(results):\n",
    "        idx, idy, content = future.result()\n",
    "        # with open(\"logs.txt\", \"a\") as f:\n",
    "        #     f.write(f\"score_{idx}_{idy}\\n\")\n",
    "        #     f.write(content)\n",
    "        # print(f\"score_{idx}_{idy}\")\n",
    "        # print(content)\n",
    "        completion_results[f\"score_{idx}_{idy}\"] = content\n",
    "\n",
    "with open(\"raw_agents/india_exp_mat_scores_4o_mini.json\", \"w\") as f:\n",
    "    json.dump(completion_results, f, indent=4)"
   ]
  },
  {
   "cell_type": "code",
   "execution_count": 32,
   "metadata": {},
   "outputs": [],
   "source": [
    "with open(\"raw_agents/us_exp_agents_sampled.json\", \"r\") as f:\n",
    "    us_agents = json.load(f)"
   ]
  },
  {
   "cell_type": "code",
   "execution_count": 33,
   "metadata": {},
   "outputs": [],
   "source": [
    "us_agents = [USPerson(**agent) for agent in us_agents]"
   ]
  },
  {
   "cell_type": "code",
   "execution_count": 34,
   "metadata": {},
   "outputs": [],
   "source": [
    "us_args = []\n",
    "\n",
    "for agent_i in us_agents:\n",
    "    for agent_j in us_agents:\n",
    "        id_i, id_j = agent_i.id, agent_j.id\n",
    "        if id_i == id_j:\n",
    "            continue\n",
    "        messages = check_compatability_prepare_messages(agent_i, agent_j)\n",
    "        us_args.append((id_i, id_j, messages))"
   ]
  },
  {
   "cell_type": "code",
   "execution_count": 35,
   "metadata": {},
   "outputs": [
    {
     "data": {
      "text/plain": [
       "159600"
      ]
     },
     "execution_count": 35,
     "metadata": {},
     "output_type": "execute_result"
    }
   ],
   "source": [
    "len(us_args)"
   ]
  },
  {
   "cell_type": "code",
   "execution_count": 36,
   "metadata": {},
   "outputs": [],
   "source": [
    "us_completion_results = {}"
   ]
  },
  {
   "cell_type": "code",
   "execution_count": null,
   "metadata": {},
   "outputs": [],
   "source": [
    "import concurrent.futures\n",
    "\n",
    "with concurrent.futures.ThreadPoolExecutor(max_workers=16) as executor:\n",
    "    results = {executor.submit(check_compatability_with_backoff, arg[0], arg[1], arg[2], \"gpt-4o-mini\"): arg for arg in us_args if f\"score_{arg[0]}_{arg[1]}\" not in us_completion_results}\n",
    "    for future in concurrent.futures.as_completed(results):\n",
    "        idx, idy, content = future.result()\n",
    "        us_completion_results[f\"score_{idx}_{idy}\"] = content\n",
    "\n",
    "with open(\"raw_agents/us_exp_mat_scores_4o_mini.json\", \"w\") as f:\n",
    "    json.dump(us_completion_results, f, indent=4)"
   ]
  },
  {
   "cell_type": "code",
   "execution_count": null,
   "metadata": {},
   "outputs": [],
   "source": []
  }
 ],
 "metadata": {
  "kernelspec": {
   "display_name": ".venv",
   "language": "python",
   "name": "python3"
  },
  "language_info": {
   "name": "python",
   "version": "3.11.9"
  }
 },
 "nbformat": 4,
 "nbformat_minor": 2
}
