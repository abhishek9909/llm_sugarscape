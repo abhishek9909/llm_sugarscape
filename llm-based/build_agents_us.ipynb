{
 "cells": [
  {
   "cell_type": "code",
   "execution_count": 1,
   "metadata": {},
   "outputs": [],
   "source": [
    "import pandas as pd\n",
    "import numpy as np"
   ]
  },
  {
   "cell_type": "markdown",
   "metadata": {},
   "source": [
    "## Agent contains these parameters:\n",
    "- Name.\n",
    "- Occupation.\n",
    "- Age.\n",
    "- Income.\n",
    "- Hobbies.\n",
    "\n",
    "### Each will have a raw value as well as categorical value.\n",
    "\n",
    "- Name: (str, cat)\n",
    "- Occupation (str, cat)\n",
    "- Age (double, cat)\n",
    "- Income (double, cat)\n",
    "- Hobbies (str, cat)\n",
    "\n",
    "_`cat` can be a string, not required during inference, only required during analysis._"
   ]
  },
  {
   "cell_type": "code",
   "execution_count": 2,
   "metadata": {},
   "outputs": [],
   "source": [
    "class AgentSpec():\n",
    "    def __init__(self, id, name_ppt, occ_ppt, age_ppt, income_ppt, hobbies_ppt):\n",
    "        self.id = id\n",
    "        self.name_ppt = name_ppt\n",
    "        self.occ_ppt = occ_ppt\n",
    "        self.age_ppt = age_ppt\n",
    "        self.income_ppt = income_ppt\n",
    "        self.hobbies_ppt = hobbies_ppt\n",
    "    def convert_to_json(self):\n",
    "        return {\n",
    "            \"id\": self.id,\n",
    "            \"name\": self.name_ppt[\"raw_value\"],\n",
    "            \"name_group\": self.name_ppt[\"cat_value\"],\n",
    "            \"occupation\": self.occ_ppt[\"raw_value\"],\n",
    "            \"occupation_group\": self.occ_ppt[\"cat_value\"],\n",
    "            \"age\": self.age_ppt[\"raw_value\"],\n",
    "            \"age_group\": self.age_ppt[\"cat_value\"],\n",
    "            \"income\": self.income_ppt[\"raw_value\"],\n",
    "            \"income_group\": self.income_ppt[\"cat_value\"],\n",
    "            \"hobbies\": self.hobbies_ppt[\"raw_value\"],\n",
    "            \"hobbies_group\": self.hobbies_ppt[\"cat_value\"]\n",
    "        }"
   ]
  },
  {
   "cell_type": "markdown",
   "metadata": {},
   "source": [
    "## Name."
   ]
  },
  {
   "cell_type": "code",
   "execution_count": 3,
   "metadata": {},
   "outputs": [
    {
     "data": {
      "text/plain": [
       "['dump/us\\\\names_0.txt',\n",
       " 'dump/us\\\\names_1.txt',\n",
       " 'dump/us\\\\names_2.txt',\n",
       " 'dump/us\\\\names_3.txt']"
      ]
     },
     "execution_count": 3,
     "metadata": {},
     "output_type": "execute_result"
    }
   ],
   "source": [
    "import glob\n",
    "\n",
    "name_files = glob.glob(\"dump/us/names*.txt\")\n",
    "name_files"
   ]
  },
  {
   "cell_type": "code",
   "execution_count": 6,
   "metadata": {},
   "outputs": [],
   "source": [
    "import re\n",
    "\n",
    "def get_names_from_file(file):\n",
    "    with open(file, \"r\") as f:\n",
    "        lines = f.readlines()\n",
    "    names_regex = re.compile(r\"^\\d+\\.\\s\\w+\")\n",
    "    names = [line.split(\". \")[1].split(\"\\n\")[0] for line in lines if names_regex.match(line)]\n",
    "    return names"
   ]
  },
  {
   "cell_type": "code",
   "execution_count": 7,
   "metadata": {},
   "outputs": [
    {
     "name": "stdout",
     "output_type": "stream",
     "text": [
      "1000\n",
      "1000\n",
      "1000\n",
      "999\n"
     ]
    }
   ],
   "source": [
    "names = [get_names_from_file(file) for file in name_files]\n",
    "for k in names:\n",
    "    print(len(k))"
   ]
  },
  {
   "cell_type": "code",
   "execution_count": 9,
   "metadata": {},
   "outputs": [],
   "source": [
    "## sample 750 names from each to make a list of 3000 names.\n",
    "import random\n",
    "\n",
    "names = [random.sample(name, 750) for name in names]\n",
    "flat_names = [name for sublist in names for name in sublist]"
   ]
  },
  {
   "cell_type": "code",
   "execution_count": 58,
   "metadata": {},
   "outputs": [],
   "source": [
    "name_groups = [\"as\", \"af\", \"hi\", \"eu\"]\n",
    "name_properties = [{\"raw_value\": name, \"cat_value\": name_groups[i // 750]} for i, name in enumerate(flat_names)]"
   ]
  },
  {
   "cell_type": "markdown",
   "metadata": {},
   "source": [
    "## Income."
   ]
  },
  {
   "cell_type": "code",
   "execution_count": 12,
   "metadata": {},
   "outputs": [
    {
     "data": {
      "text/html": [
       "<div>\n",
       "<style scoped>\n",
       "    .dataframe tbody tr th:only-of-type {\n",
       "        vertical-align: middle;\n",
       "    }\n",
       "\n",
       "    .dataframe tbody tr th {\n",
       "        vertical-align: top;\n",
       "    }\n",
       "\n",
       "    .dataframe thead th {\n",
       "        text-align: right;\n",
       "    }\n",
       "</style>\n",
       "<table border=\"1\" class=\"dataframe\">\n",
       "  <thead>\n",
       "    <tr style=\"text-align: right;\">\n",
       "      <th></th>\n",
       "      <th>Income Group</th>\n",
       "      <th>Percentile Range</th>\n",
       "      <th>Annual Income Range (Example)</th>\n",
       "    </tr>\n",
       "  </thead>\n",
       "  <tbody>\n",
       "    <tr>\n",
       "      <th>0</th>\n",
       "      <td>Low Income</td>\n",
       "      <td>Bottom 20%</td>\n",
       "      <td>&lt;$30,000</td>\n",
       "    </tr>\n",
       "    <tr>\n",
       "      <th>1</th>\n",
       "      <td>Lower-Middle Income</td>\n",
       "      <td>20th–40th percentile</td>\n",
       "      <td>$30,000–$50,000</td>\n",
       "    </tr>\n",
       "    <tr>\n",
       "      <th>2</th>\n",
       "      <td>Middle Income</td>\n",
       "      <td>40th–60th percentile</td>\n",
       "      <td>$50,000–$80,000</td>\n",
       "    </tr>\n",
       "    <tr>\n",
       "      <th>3</th>\n",
       "      <td>Upper-Middle Income</td>\n",
       "      <td>60th–80th percentile</td>\n",
       "      <td>$80,000–$150,000</td>\n",
       "    </tr>\n",
       "    <tr>\n",
       "      <th>4</th>\n",
       "      <td>High Income</td>\n",
       "      <td>80th–95th percentile</td>\n",
       "      <td>$150,000–$250,000</td>\n",
       "    </tr>\n",
       "  </tbody>\n",
       "</table>\n",
       "</div>"
      ],
      "text/plain": [
       "          Income Group      Percentile Range Annual Income Range (Example)\n",
       "0           Low Income            Bottom 20%                      <$30,000\n",
       "1  Lower-Middle Income  20th–40th percentile               $30,000–$50,000\n",
       "2        Middle Income  40th–60th percentile               $50,000–$80,000\n",
       "3  Upper-Middle Income  60th–80th percentile              $80,000–$150,000\n",
       "4          High Income  80th–95th percentile             $150,000–$250,000"
      ]
     },
     "execution_count": 12,
     "metadata": {},
     "output_type": "execute_result"
    }
   ],
   "source": [
    "income_file = \"dump/us/income.txt\"\n",
    "df = pd.read_csv(income_file, sep=\"\\t\")\n",
    "df.head()"
   ]
  },
  {
   "cell_type": "code",
   "execution_count": 18,
   "metadata": {},
   "outputs": [
    {
     "data": {
      "text/html": [
       "<div>\n",
       "<style scoped>\n",
       "    .dataframe tbody tr th:only-of-type {\n",
       "        vertical-align: middle;\n",
       "    }\n",
       "\n",
       "    .dataframe tbody tr th {\n",
       "        vertical-align: top;\n",
       "    }\n",
       "\n",
       "    .dataframe thead th {\n",
       "        text-align: right;\n",
       "    }\n",
       "</style>\n",
       "<table border=\"1\" class=\"dataframe\">\n",
       "  <thead>\n",
       "    <tr style=\"text-align: right;\">\n",
       "      <th></th>\n",
       "      <th>Income Group</th>\n",
       "      <th>Percentile Range</th>\n",
       "      <th>Annual Income Range (Example)</th>\n",
       "      <th>income_range</th>\n",
       "    </tr>\n",
       "  </thead>\n",
       "  <tbody>\n",
       "    <tr>\n",
       "      <th>0</th>\n",
       "      <td>Low Income</td>\n",
       "      <td>Bottom 20%</td>\n",
       "      <td>&lt;$30,000</td>\n",
       "      <td>0-30000</td>\n",
       "    </tr>\n",
       "    <tr>\n",
       "      <th>1</th>\n",
       "      <td>Lower-Middle Income</td>\n",
       "      <td>20th–40th percentile</td>\n",
       "      <td>$30,000–$50,000</td>\n",
       "      <td>30000-50000</td>\n",
       "    </tr>\n",
       "    <tr>\n",
       "      <th>2</th>\n",
       "      <td>Middle Income</td>\n",
       "      <td>40th–60th percentile</td>\n",
       "      <td>$50,000–$80,000</td>\n",
       "      <td>50000-80000</td>\n",
       "    </tr>\n",
       "    <tr>\n",
       "      <th>3</th>\n",
       "      <td>Upper-Middle Income</td>\n",
       "      <td>60th–80th percentile</td>\n",
       "      <td>$80,000–$150,000</td>\n",
       "      <td>80000-150000</td>\n",
       "    </tr>\n",
       "    <tr>\n",
       "      <th>4</th>\n",
       "      <td>High Income</td>\n",
       "      <td>80th–95th percentile</td>\n",
       "      <td>$150,000–$250,000</td>\n",
       "      <td>150000-250000</td>\n",
       "    </tr>\n",
       "  </tbody>\n",
       "</table>\n",
       "</div>"
      ],
      "text/plain": [
       "          Income Group      Percentile Range Annual Income Range (Example)  \\\n",
       "0           Low Income            Bottom 20%                      <$30,000   \n",
       "1  Lower-Middle Income  20th–40th percentile               $30,000–$50,000   \n",
       "2        Middle Income  40th–60th percentile               $50,000–$80,000   \n",
       "3  Upper-Middle Income  60th–80th percentile              $80,000–$150,000   \n",
       "4          High Income  80th–95th percentile             $150,000–$250,000   \n",
       "\n",
       "    income_range  \n",
       "0        0-30000  \n",
       "1    30000-50000  \n",
       "2    50000-80000  \n",
       "3   80000-150000  \n",
       "4  150000-250000  "
      ]
     },
     "execution_count": 18,
     "metadata": {},
     "output_type": "execute_result"
    }
   ],
   "source": [
    "df[\"income_range\"] = [\"0-30000\", \"30000-50000\", \"50000-80000\", \"80000-150000\", \"150000-250000\", \"250000-1000000\"]\n",
    "df.head() "
   ]
  },
  {
   "cell_type": "code",
   "execution_count": 19,
   "metadata": {},
   "outputs": [],
   "source": [
    "zipped = list(zip(df[\"Income Group\"], df[\"income_range\"]))"
   ]
  },
  {
   "cell_type": "code",
   "execution_count": 20,
   "metadata": {},
   "outputs": [],
   "source": [
    "## Choose 3000 random incomes.\n",
    "\n",
    "## Step - 1 select a group with equal probability.\n",
    "## Step - 2 select a random income from the group.\n",
    "\n",
    "income_ppts = []\n",
    "\n",
    "for i in range(3000):\n",
    "    idx = np.random.choice(range(5))\n",
    "    income_group, income_range = zipped[idx]\n",
    "    income = np.random.randint(int(income_range.split(\"-\")[0]), int(income_range.split(\"-\")[1]))\n",
    "    income_ppts.append({\"raw_value\": income, \"cat_value\": income_group})"
   ]
  },
  {
   "cell_type": "markdown",
   "metadata": {},
   "source": [
    "## Age."
   ]
  },
  {
   "cell_type": "code",
   "execution_count": 21,
   "metadata": {},
   "outputs": [
    {
     "data": {
      "text/html": [
       "<div>\n",
       "<style scoped>\n",
       "    .dataframe tbody tr th:only-of-type {\n",
       "        vertical-align: middle;\n",
       "    }\n",
       "\n",
       "    .dataframe tbody tr th {\n",
       "        vertical-align: top;\n",
       "    }\n",
       "\n",
       "    .dataframe thead th {\n",
       "        text-align: right;\n",
       "    }\n",
       "</style>\n",
       "<table border=\"1\" class=\"dataframe\">\n",
       "  <thead>\n",
       "    <tr style=\"text-align: right;\">\n",
       "      <th></th>\n",
       "      <th>Age Group (Years)</th>\n",
       "      <th>Count</th>\n",
       "    </tr>\n",
       "  </thead>\n",
       "  <tbody>\n",
       "    <tr>\n",
       "      <th>0</th>\n",
       "      <td>17.0–28.0</td>\n",
       "      <td>8,898</td>\n",
       "    </tr>\n",
       "    <tr>\n",
       "      <th>1</th>\n",
       "      <td>28.0–37.0</td>\n",
       "      <td>7,783</td>\n",
       "    </tr>\n",
       "    <tr>\n",
       "      <th>2</th>\n",
       "      <td>37.0–48.0</td>\n",
       "      <td>8,241</td>\n",
       "    </tr>\n",
       "    <tr>\n",
       "      <th>3</th>\n",
       "      <td>48.0–90.0</td>\n",
       "      <td>7,639</td>\n",
       "    </tr>\n",
       "  </tbody>\n",
       "</table>\n",
       "</div>"
      ],
      "text/plain": [
       "  Age Group (Years)  Count\n",
       "0         17.0–28.0  8,898\n",
       "1         28.0–37.0  7,783\n",
       "2         37.0–48.0  8,241\n",
       "3         48.0–90.0  7,639"
      ]
     },
     "execution_count": 21,
     "metadata": {},
     "output_type": "execute_result"
    }
   ],
   "source": [
    "age_file = \"dump/us/age.txt\"\n",
    "df = pd.read_csv(age_file, sep=\"\\t\")\n",
    "df.head()"
   ]
  },
  {
   "cell_type": "code",
   "execution_count": 25,
   "metadata": {},
   "outputs": [],
   "source": [
    "df['count_double'] = df['Count'].apply(lambda x: float(x.replace(\",\", \"\")))"
   ]
  },
  {
   "cell_type": "code",
   "execution_count": 26,
   "metadata": {},
   "outputs": [
    {
     "data": {
      "text/html": [
       "<div>\n",
       "<style scoped>\n",
       "    .dataframe tbody tr th:only-of-type {\n",
       "        vertical-align: middle;\n",
       "    }\n",
       "\n",
       "    .dataframe tbody tr th {\n",
       "        vertical-align: top;\n",
       "    }\n",
       "\n",
       "    .dataframe thead th {\n",
       "        text-align: right;\n",
       "    }\n",
       "</style>\n",
       "<table border=\"1\" class=\"dataframe\">\n",
       "  <thead>\n",
       "    <tr style=\"text-align: right;\">\n",
       "      <th></th>\n",
       "      <th>Age Group (Years)</th>\n",
       "      <th>Count</th>\n",
       "      <th>count_double</th>\n",
       "      <th>probs</th>\n",
       "    </tr>\n",
       "  </thead>\n",
       "  <tbody>\n",
       "    <tr>\n",
       "      <th>0</th>\n",
       "      <td>17.0–28.0</td>\n",
       "      <td>8,898</td>\n",
       "      <td>8898.0</td>\n",
       "      <td>0.273272</td>\n",
       "    </tr>\n",
       "    <tr>\n",
       "      <th>1</th>\n",
       "      <td>28.0–37.0</td>\n",
       "      <td>7,783</td>\n",
       "      <td>7783.0</td>\n",
       "      <td>0.239028</td>\n",
       "    </tr>\n",
       "    <tr>\n",
       "      <th>2</th>\n",
       "      <td>37.0–48.0</td>\n",
       "      <td>8,241</td>\n",
       "      <td>8241.0</td>\n",
       "      <td>0.253094</td>\n",
       "    </tr>\n",
       "    <tr>\n",
       "      <th>3</th>\n",
       "      <td>48.0–90.0</td>\n",
       "      <td>7,639</td>\n",
       "      <td>7639.0</td>\n",
       "      <td>0.234606</td>\n",
       "    </tr>\n",
       "  </tbody>\n",
       "</table>\n",
       "</div>"
      ],
      "text/plain": [
       "  Age Group (Years)  Count  count_double     probs\n",
       "0         17.0–28.0  8,898        8898.0  0.273272\n",
       "1         28.0–37.0  7,783        7783.0  0.239028\n",
       "2         37.0–48.0  8,241        8241.0  0.253094\n",
       "3         48.0–90.0  7,639        7639.0  0.234606"
      ]
     },
     "execution_count": 26,
     "metadata": {},
     "output_type": "execute_result"
    }
   ],
   "source": [
    "# df['probs'] = df['Count'] / df['Count'].sum()\n",
    "df['probs'] = df['count_double'] / df['count_double'].sum()\n",
    "df.head()"
   ]
  },
  {
   "cell_type": "code",
   "execution_count": 32,
   "metadata": {},
   "outputs": [],
   "source": [
    "## Choose 3000 random ages.\n",
    "\n",
    "## Step-1: Choose a group with probability proportional to the count.\n",
    "## Step-2: Choose a random age from the group.\n",
    "\n",
    "age_ppts = []\n",
    "\n",
    "for i in range(3000):\n",
    "    idx = np.random.choice(range(4), p=df['probs'])\n",
    "    age_range = df['Age Group (Years)'][idx]\n",
    "    age_splits = [int(float(x)) for x in age_range.split(\"–\")]\n",
    "    age = np.random.randint(age_splits[0], age_splits[1])\n",
    "    age_ppts.append({\"raw_value\": age, \"cat_value\": age_range})"
   ]
  },
  {
   "cell_type": "markdown",
   "metadata": {},
   "source": [
    "## Occupation"
   ]
  },
  {
   "cell_type": "code",
   "execution_count": 33,
   "metadata": {},
   "outputs": [
    {
     "data": {
      "text/plain": [
       "['dump/us\\\\glossary_professions.json']"
      ]
     },
     "execution_count": 33,
     "metadata": {},
     "output_type": "execute_result"
    }
   ],
   "source": [
    "occ_gloss_file = glob.glob(\"dump/us/gloss*\")\n",
    "occ_gloss_file"
   ]
  },
  {
   "cell_type": "code",
   "execution_count": 34,
   "metadata": {},
   "outputs": [
    {
     "data": {
      "text/plain": [
       "dict_keys(['prof_specialty', 'craft_repair', 'exec_managerial', 'adm_clerical', 'sales', 'handlers_cleaners_farming_fishing'])"
      ]
     },
     "execution_count": 34,
     "metadata": {},
     "output_type": "execute_result"
    }
   ],
   "source": [
    "import json\n",
    "\n",
    "with open(occ_gloss_file[0], \"r\") as f:\n",
    "    gloss_dict = json.load(f)\n",
    "\n",
    "gloss_dict.keys()"
   ]
  },
  {
   "cell_type": "code",
   "execution_count": 46,
   "metadata": {},
   "outputs": [],
   "source": [
    "## 3000 Values.\n",
    "\n",
    "occ_ppts = []\n",
    "\n",
    "## Step-1: Choose a group with equal probability.\n",
    "## Step-2: Choose a random occupation from the group.\n",
    "\n",
    "for i in range(3000):\n",
    "    occ_group = str(np.random.choice(list(gloss_dict.keys())))\n",
    "    occ = str(np.random.choice(gloss_dict[occ_group]))\n",
    "    occ_ppts.append({\"raw_value\": occ, \"cat_value\": occ_group})"
   ]
  },
  {
   "cell_type": "markdown",
   "metadata": {},
   "source": [
    "## Hobbies"
   ]
  },
  {
   "cell_type": "code",
   "execution_count": 39,
   "metadata": {},
   "outputs": [
    {
     "data": {
      "text/plain": [
       "dict_keys(['creative', 'physical', 'intellectual', 'social', 'collecting'])"
      ]
     },
     "execution_count": 39,
     "metadata": {},
     "output_type": "execute_result"
    }
   ],
   "source": [
    "hob_f = \"dump/hobbies.json\"\n",
    "\n",
    "with open(hob_f, \"r\") as f:\n",
    "    hobbies = json.load(f)\n",
    "\n",
    "hobbies.keys()"
   ]
  },
  {
   "cell_type": "code",
   "execution_count": 40,
   "metadata": {},
   "outputs": [
    {
     "data": {
      "text/plain": [
       "(3000,\n",
       " {'raw_value': 'learning languages and writing algorithms',\n",
       "  'cat_value': 'intellectual'})"
      ]
     },
     "execution_count": 40,
     "metadata": {},
     "output_type": "execute_result"
    }
   ],
   "source": [
    "## 3000 Values.\n",
    "## Step-1: Choose a category.\n",
    "## Step-2: Choose 2 raw values from the category.\n",
    "\n",
    "hobbies_properties = []\n",
    "for i in range(3000):\n",
    "    hob_group = str(np.random.choice(list(hobbies.keys())))\n",
    "    hob_select = random.sample(hobbies[hob_group], 2)\n",
    "    hob_raw = \" and \".join(hob_select)\n",
    "    hobbies_properties.append({\"raw_value\": hob_raw, \"cat_value\": hob_group})\n",
    "\n",
    "len(hobbies_properties), hobbies_properties[0]"
   ]
  },
  {
   "cell_type": "markdown",
   "metadata": {},
   "source": [
    "## Creation of agents."
   ]
  },
  {
   "cell_type": "code",
   "execution_count": 60,
   "metadata": {},
   "outputs": [],
   "source": [
    "agents = []\n",
    "\n",
    "for i in range(3000):\n",
    "    agents.append(AgentSpec(i, name_properties[i], occ_ppts[i], age_ppts[i], income_ppts[i], hobbies_properties[i]))"
   ]
  },
  {
   "cell_type": "code",
   "execution_count": 61,
   "metadata": {},
   "outputs": [
    {
     "data": {
      "text/plain": [
       "(3000,)"
      ]
     },
     "execution_count": 61,
     "metadata": {},
     "output_type": "execute_result"
    }
   ],
   "source": [
    "len(agents), # agents[0].convert_to_json()"
   ]
  },
  {
   "cell_type": "code",
   "execution_count": 62,
   "metadata": {},
   "outputs": [],
   "source": [
    "## Save to file.\n",
    "\n",
    "with open(\"raw_agents/us_exp_agents.json\", \"w\") as f:\n",
    "    json.dump([agent.convert_to_json() for agent in agents], f, indent=4)"
   ]
  },
  {
   "cell_type": "markdown",
   "metadata": {},
   "source": []
  }
 ],
 "metadata": {
  "kernelspec": {
   "display_name": ".venv",
   "language": "python",
   "name": "python3"
  },
  "language_info": {
   "codemirror_mode": {
    "name": "ipython",
    "version": 3
   },
   "file_extension": ".py",
   "mimetype": "text/x-python",
   "name": "python",
   "nbconvert_exporter": "python",
   "pygments_lexer": "ipython3",
   "version": "3.11.9"
  }
 },
 "nbformat": 4,
 "nbformat_minor": 2
}
