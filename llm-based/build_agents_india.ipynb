{
 "cells": [
  {
   "cell_type": "code",
   "execution_count": 1,
   "metadata": {},
   "outputs": [],
   "source": [
    "import pandas as pd\n",
    "import numpy as np"
   ]
  },
  {
   "cell_type": "markdown",
   "metadata": {},
   "source": [
    "## Agent contains these parameters:\n",
    "- Name.\n",
    "- Occupation.\n",
    "- Age.\n",
    "- Income.\n",
    "- Hobbies.\n",
    "\n",
    "### Each will have a raw value as well as categorical value.\n",
    "\n",
    "- Name: (str, cat)\n",
    "- Occupation (str, cat)\n",
    "- Age (double, cat)\n",
    "- Income (double, cat)\n",
    "- Hobbies (str, cat)\n",
    "\n",
    "_`cat` can be a string, not required during inference, only required during analysis._"
   ]
  },
  {
   "cell_type": "code",
   "execution_count": 124,
   "metadata": {},
   "outputs": [],
   "source": [
    "class AgentSpec():\n",
    "    def __init__(self, id, name_ppt, occ_ppt, age_ppt, income_ppt, hobbies_ppt):\n",
    "        self.id = id\n",
    "        self.name_ppt = name_ppt\n",
    "        self.occ_ppt = occ_ppt\n",
    "        self.age_ppt = age_ppt\n",
    "        self.income_ppt = income_ppt\n",
    "        self.hobbies_ppt = hobbies_ppt\n",
    "    def convert_to_json(self):\n",
    "        return {\n",
    "            \"id\": self.id,\n",
    "            \"name\": self.name_ppt[\"raw_value\"],\n",
    "            \"name_group\": self.name_ppt[\"cat_value\"],\n",
    "            \"occupation\": self.occ_ppt[\"raw_value\"],\n",
    "            \"occupation_group\": self.occ_ppt[\"cat_value\"],\n",
    "            \"age\": self.age_ppt[\"raw_value\"],\n",
    "            \"age_group\": self.age_ppt[\"cat_value\"],\n",
    "            \"income\": self.income_ppt[\"raw_value\"],\n",
    "            \"income_group\": self.income_ppt[\"cat_value\"],\n",
    "            \"hobbies\": self.hobbies_ppt[\"raw_value\"],\n",
    "            \"hobbies_group\": self.hobbies_ppt[\"cat_value\"]\n",
    "        }"
   ]
  },
  {
   "cell_type": "markdown",
   "metadata": {},
   "source": [
    "## Name."
   ]
  },
  {
   "cell_type": "code",
   "execution_count": 6,
   "metadata": {},
   "outputs": [
    {
     "data": {
      "text/plain": [
       "['dump/india\\\\names_0.txt',\n",
       " 'dump/india\\\\names_1.txt',\n",
       " 'dump/india\\\\names_2.txt',\n",
       " 'dump/india\\\\names_3.txt',\n",
       " 'dump/india\\\\names_4.txt',\n",
       " 'dump/india\\\\names_5.txt']"
      ]
     },
     "execution_count": 6,
     "metadata": {},
     "output_type": "execute_result"
    }
   ],
   "source": [
    "import glob\n",
    "\n",
    "name_files = glob.glob(\"dump/india/name*.txt\")\n",
    "name_files"
   ]
  },
  {
   "cell_type": "code",
   "execution_count": 8,
   "metadata": {},
   "outputs": [],
   "source": [
    "with open(name_files[0], \"r\") as f:\n",
    "    lines = f.readlines()"
   ]
  },
  {
   "cell_type": "code",
   "execution_count": 31,
   "metadata": {},
   "outputs": [],
   "source": [
    "## Get all lines with [num]. [first_name] [middle_name?] [last_name] regex pattern.\n",
    "import re\n",
    "\n",
    "names_regex = re.compile(r\"^\\d+\\.\\s\\w+\")\n",
    "names = [line.split(\". \")[1].split(\"\\n\")[0] for line in lines if names_regex.match(line)]"
   ]
  },
  {
   "cell_type": "code",
   "execution_count": 33,
   "metadata": {},
   "outputs": [
    {
     "data": {
      "text/plain": [
       "(1000,)"
      ]
     },
     "execution_count": 33,
     "metadata": {},
     "output_type": "execute_result"
    }
   ],
   "source": [
    "len(names), # names[50:55]"
   ]
  },
  {
   "cell_type": "code",
   "execution_count": 34,
   "metadata": {},
   "outputs": [],
   "source": [
    "def get_names_from_file(file):\n",
    "    with open(file, \"r\") as f:\n",
    "        lines = f.readlines()\n",
    "    names_regex = re.compile(r\"^\\d+\\.\\s\\w+\")\n",
    "    names = [line.split(\". \")[1].split(\"\\n\")[0] for line in lines if names_regex.match(line)]\n",
    "    return names"
   ]
  },
  {
   "cell_type": "code",
   "execution_count": 35,
   "metadata": {},
   "outputs": [
    {
     "name": "stdout",
     "output_type": "stream",
     "text": [
      "1000\n",
      "1000\n",
      "1000\n",
      "1000\n",
      "1000\n",
      "1000\n"
     ]
    }
   ],
   "source": [
    "names = [get_names_from_file(file) for file in name_files]\n",
    "for k in names:\n",
    "    print(len(k))"
   ]
  },
  {
   "cell_type": "code",
   "execution_count": 36,
   "metadata": {},
   "outputs": [
    {
     "name": "stdout",
     "output_type": "stream",
     "text": [
      "500\n",
      "500\n",
      "500\n",
      "500\n",
      "500\n",
      "500\n"
     ]
    }
   ],
   "source": [
    "## Sample 3000 // 6 == 500 names from each entry list.\n",
    "import random\n",
    "\n",
    "names = [random.sample(name_list, 500) for name_list in names]\n",
    "for k in names:\n",
    "    print(len(k))"
   ]
  },
  {
   "cell_type": "code",
   "execution_count": 40,
   "metadata": {},
   "outputs": [],
   "source": [
    "flat_names = [name for name_list in names for name in name_list]"
   ]
  },
  {
   "cell_type": "code",
   "execution_count": 56,
   "metadata": {},
   "outputs": [],
   "source": [
    "name_groups = [\"north\", \"north-east\", \"central\", \"east\", \"south\", \"west\"]\n",
    "name_properties = [{\"raw_value\": name, \"cat_value\": name_groups[i // 500]} for i, name in enumerate(flat_names)]"
   ]
  },
  {
   "cell_type": "code",
   "execution_count": 57,
   "metadata": {},
   "outputs": [
    {
     "data": {
      "text/plain": [
       "(3000, dict_keys(['raw_value', 'cat_value']))"
      ]
     },
     "execution_count": 57,
     "metadata": {},
     "output_type": "execute_result"
    }
   ],
   "source": [
    "len(name_properties), name_properties[0].keys()"
   ]
  },
  {
   "cell_type": "markdown",
   "metadata": {},
   "source": [
    "## Occupation"
   ]
  },
  {
   "cell_type": "code",
   "execution_count": 45,
   "metadata": {},
   "outputs": [
    {
     "data": {
      "text/plain": [
       "'dump/india\\\\occupation.txt'"
      ]
     },
     "execution_count": 45,
     "metadata": {},
     "output_type": "execute_result"
    }
   ],
   "source": [
    "occ_file = glob.glob(\"dump/india/occ*.txt\")[0]\n",
    "occ_file"
   ]
  },
  {
   "cell_type": "code",
   "execution_count": 47,
   "metadata": {},
   "outputs": [
    {
     "data": {
      "text/html": [
       "<div>\n",
       "<style scoped>\n",
       "    .dataframe tbody tr th:only-of-type {\n",
       "        vertical-align: middle;\n",
       "    }\n",
       "\n",
       "    .dataframe tbody tr th {\n",
       "        vertical-align: top;\n",
       "    }\n",
       "\n",
       "    .dataframe thead th {\n",
       "        text-align: right;\n",
       "    }\n",
       "</style>\n",
       "<table border=\"1\" class=\"dataframe\">\n",
       "  <thead>\n",
       "    <tr style=\"text-align: right;\">\n",
       "      <th></th>\n",
       "      <th>Sector</th>\n",
       "      <th>Percentage of Workforce</th>\n",
       "      <th>Key Occupations</th>\n",
       "    </tr>\n",
       "  </thead>\n",
       "  <tbody>\n",
       "    <tr>\n",
       "      <th>0</th>\n",
       "      <td>Agriculture</td>\n",
       "      <td>44.8%</td>\n",
       "      <td>Farming, fishing, forestry, livestock management</td>\n",
       "    </tr>\n",
       "    <tr>\n",
       "      <th>1</th>\n",
       "      <td>Industry</td>\n",
       "      <td>24%</td>\n",
       "      <td>Construction (75 million workers), manufacturi...</td>\n",
       "    </tr>\n",
       "    <tr>\n",
       "      <th>2</th>\n",
       "      <td>Services</td>\n",
       "      <td>31.2%</td>\n",
       "      <td>Trade and hotels (70 million workers), IT/BPO,...</td>\n",
       "    </tr>\n",
       "  </tbody>\n",
       "</table>\n",
       "</div>"
      ],
      "text/plain": [
       "        Sector Percentage of Workforce  \\\n",
       "0  Agriculture                   44.8%   \n",
       "1     Industry                     24%   \n",
       "2     Services                   31.2%   \n",
       "\n",
       "                                     Key Occupations  \n",
       "0   Farming, fishing, forestry, livestock management  \n",
       "1  Construction (75 million workers), manufacturi...  \n",
       "2  Trade and hotels (70 million workers), IT/BPO,...  "
      ]
     },
     "execution_count": 47,
     "metadata": {},
     "output_type": "execute_result"
    }
   ],
   "source": [
    "df = pd.read_csv(occ_file, sep=\"\\t\")\n",
    "df.head()"
   ]
  },
  {
   "cell_type": "code",
   "execution_count": 48,
   "metadata": {},
   "outputs": [
    {
     "data": {
      "text/plain": [
       "'dump/india\\\\glossary_professions.json'"
      ]
     },
     "execution_count": 48,
     "metadata": {},
     "output_type": "execute_result"
    }
   ],
   "source": [
    "import json\n",
    "\n",
    "json_gloss = glob.glob(\"dump/india/gloss*.json\")[0]\n",
    "json_gloss"
   ]
  },
  {
   "cell_type": "code",
   "execution_count": 49,
   "metadata": {},
   "outputs": [],
   "source": [
    "## Load the glossary file.\n",
    "with open(json_gloss, \"r\") as f:\n",
    "    glossary = json.load(f)"
   ]
  },
  {
   "cell_type": "code",
   "execution_count": 53,
   "metadata": {},
   "outputs": [
    {
     "data": {
      "text/plain": [
       "['Agriculture', 'Industry', 'Services']"
      ]
     },
     "execution_count": 53,
     "metadata": {},
     "output_type": "execute_result"
    }
   ],
   "source": [
    "list(glossary.keys())"
   ]
  },
  {
   "cell_type": "code",
   "execution_count": 60,
   "metadata": {},
   "outputs": [],
   "source": [
    "### 3000 values.\n",
    "### Step-1: Choose category with probability: 45%, 24% and 31%.\n",
    "### Step-2: Choose raw value from category based on equal probability.\n",
    "\n",
    "occupation_properties = []\n",
    "for i in range(3000):\n",
    "    occ_group = str(np.random.choice(list(glossary.keys()), p=[0.45, 0.24, 0.31]))\n",
    "    occ_raw = str(np.random.choice(glossary[occ_group]))\n",
    "    occ_properties = {\"raw_value\": occ_raw, \"cat_value\": occ_group}\n",
    "    occupation_properties.append(occ_properties)"
   ]
  },
  {
   "cell_type": "code",
   "execution_count": 61,
   "metadata": {},
   "outputs": [
    {
     "data": {
      "text/plain": [
       "(3000, {'raw_value': 'Forestry Technician', 'cat_value': 'Agriculture'})"
      ]
     },
     "execution_count": 61,
     "metadata": {},
     "output_type": "execute_result"
    }
   ],
   "source": [
    "len(occupation_properties), occupation_properties[0]"
   ]
  },
  {
   "cell_type": "markdown",
   "metadata": {},
   "source": [
    "## Age."
   ]
  },
  {
   "cell_type": "code",
   "execution_count": 62,
   "metadata": {},
   "outputs": [
    {
     "data": {
      "text/plain": [
       "'dump/india\\\\age.txt'"
      ]
     },
     "execution_count": 62,
     "metadata": {},
     "output_type": "execute_result"
    }
   ],
   "source": [
    "age_file = glob.glob(\"dump/india/age*.txt\")[0]\n",
    "age_file"
   ]
  },
  {
   "cell_type": "code",
   "execution_count": 63,
   "metadata": {},
   "outputs": [
    {
     "data": {
      "text/html": [
       "<div>\n",
       "<style scoped>\n",
       "    .dataframe tbody tr th:only-of-type {\n",
       "        vertical-align: middle;\n",
       "    }\n",
       "\n",
       "    .dataframe tbody tr th {\n",
       "        vertical-align: top;\n",
       "    }\n",
       "\n",
       "    .dataframe thead th {\n",
       "        text-align: right;\n",
       "    }\n",
       "</style>\n",
       "<table border=\"1\" class=\"dataframe\">\n",
       "  <thead>\n",
       "    <tr style=\"text-align: right;\">\n",
       "      <th></th>\n",
       "      <th>Age Group</th>\n",
       "      <th>Males (millions)</th>\n",
       "      <th>Females (millions)</th>\n",
       "    </tr>\n",
       "  </thead>\n",
       "  <tbody>\n",
       "    <tr>\n",
       "      <th>0</th>\n",
       "      <td>0–4</td>\n",
       "      <td>12.5</td>\n",
       "      <td>11.5</td>\n",
       "    </tr>\n",
       "    <tr>\n",
       "      <th>1</th>\n",
       "      <td>5–9</td>\n",
       "      <td>13.0</td>\n",
       "      <td>12.0</td>\n",
       "    </tr>\n",
       "    <tr>\n",
       "      <th>2</th>\n",
       "      <td>10–14</td>\n",
       "      <td>13.5</td>\n",
       "      <td>12.5</td>\n",
       "    </tr>\n",
       "    <tr>\n",
       "      <th>3</th>\n",
       "      <td>15–19</td>\n",
       "      <td>12.5</td>\n",
       "      <td>11.5</td>\n",
       "    </tr>\n",
       "    <tr>\n",
       "      <th>4</th>\n",
       "      <td>20–24</td>\n",
       "      <td>12.0</td>\n",
       "      <td>11.0</td>\n",
       "    </tr>\n",
       "  </tbody>\n",
       "</table>\n",
       "</div>"
      ],
      "text/plain": [
       "  Age Group  Males (millions)  Females (millions)\n",
       "0       0–4              12.5                11.5\n",
       "1       5–9              13.0                12.0\n",
       "2     10–14              13.5                12.5\n",
       "3     15–19              12.5                11.5\n",
       "4     20–24              12.0                11.0"
      ]
     },
     "execution_count": 63,
     "metadata": {},
     "output_type": "execute_result"
    }
   ],
   "source": [
    "df = pd.read_csv(age_file, sep=\"\\t\")\n",
    "df.head()"
   ]
  },
  {
   "cell_type": "code",
   "execution_count": 65,
   "metadata": {},
   "outputs": [
    {
     "name": "stdout",
     "output_type": "stream",
     "text": [
      "['0–4', '5–9', '10–14', '15–19', '20–24', '25–29', '30–34', '35–39', '40–44', '45–49', '50–54', '55–59', '60–64', '65–69', '70–74', '75–79', '80–84', '85–89', '90–94', '95–99', '100+']\n"
     ]
    }
   ],
   "source": [
    "print(df[\"Age Group\"].to_list())"
   ]
  },
  {
   "cell_type": "code",
   "execution_count": 67,
   "metadata": {},
   "outputs": [
    {
     "data": {
      "text/html": [
       "<div>\n",
       "<style scoped>\n",
       "    .dataframe tbody tr th:only-of-type {\n",
       "        vertical-align: middle;\n",
       "    }\n",
       "\n",
       "    .dataframe tbody tr th {\n",
       "        vertical-align: top;\n",
       "    }\n",
       "\n",
       "    .dataframe thead th {\n",
       "        text-align: right;\n",
       "    }\n",
       "</style>\n",
       "<table border=\"1\" class=\"dataframe\">\n",
       "  <thead>\n",
       "    <tr style=\"text-align: right;\">\n",
       "      <th></th>\n",
       "      <th>Age Group</th>\n",
       "      <th>Males (millions)</th>\n",
       "      <th>Females (millions)</th>\n",
       "    </tr>\n",
       "  </thead>\n",
       "  <tbody>\n",
       "    <tr>\n",
       "      <th>4</th>\n",
       "      <td>20–24</td>\n",
       "      <td>12.0</td>\n",
       "      <td>11.0</td>\n",
       "    </tr>\n",
       "    <tr>\n",
       "      <th>5</th>\n",
       "      <td>25–29</td>\n",
       "      <td>11.5</td>\n",
       "      <td>11.0</td>\n",
       "    </tr>\n",
       "    <tr>\n",
       "      <th>6</th>\n",
       "      <td>30–34</td>\n",
       "      <td>11.0</td>\n",
       "      <td>10.5</td>\n",
       "    </tr>\n",
       "    <tr>\n",
       "      <th>7</th>\n",
       "      <td>35–39</td>\n",
       "      <td>10.5</td>\n",
       "      <td>10.0</td>\n",
       "    </tr>\n",
       "    <tr>\n",
       "      <th>8</th>\n",
       "      <td>40–44</td>\n",
       "      <td>10.0</td>\n",
       "      <td>9.5</td>\n",
       "    </tr>\n",
       "  </tbody>\n",
       "</table>\n",
       "</div>"
      ],
      "text/plain": [
       "  Age Group  Males (millions)  Females (millions)\n",
       "4     20–24              12.0                11.0\n",
       "5     25–29              11.5                11.0\n",
       "6     30–34              11.0                10.5\n",
       "7     35–39              10.5                10.0\n",
       "8     40–44              10.0                 9.5"
      ]
     },
     "execution_count": 67,
     "metadata": {},
     "output_type": "execute_result"
    }
   ],
   "source": [
    "## Keep between '20-24' and '65-69' age groups only.\n",
    "age_groups = df[\"Age Group\"].to_list()[4:14]\n",
    "df = df[df[\"Age Group\"].isin(age_groups)]\n",
    "df.head()"
   ]
  },
  {
   "cell_type": "code",
   "execution_count": 69,
   "metadata": {},
   "outputs": [
    {
     "data": {
      "text/html": [
       "<div>\n",
       "<style scoped>\n",
       "    .dataframe tbody tr th:only-of-type {\n",
       "        vertical-align: middle;\n",
       "    }\n",
       "\n",
       "    .dataframe tbody tr th {\n",
       "        vertical-align: top;\n",
       "    }\n",
       "\n",
       "    .dataframe thead th {\n",
       "        text-align: right;\n",
       "    }\n",
       "</style>\n",
       "<table border=\"1\" class=\"dataframe\">\n",
       "  <thead>\n",
       "    <tr style=\"text-align: right;\">\n",
       "      <th></th>\n",
       "      <th>Age Group</th>\n",
       "      <th>Males (millions)</th>\n",
       "      <th>Females (millions)</th>\n",
       "      <th>Total</th>\n",
       "    </tr>\n",
       "  </thead>\n",
       "  <tbody>\n",
       "    <tr>\n",
       "      <th>4</th>\n",
       "      <td>20–24</td>\n",
       "      <td>12.0</td>\n",
       "      <td>11.0</td>\n",
       "      <td>23.0</td>\n",
       "    </tr>\n",
       "    <tr>\n",
       "      <th>5</th>\n",
       "      <td>25–29</td>\n",
       "      <td>11.5</td>\n",
       "      <td>11.0</td>\n",
       "      <td>22.5</td>\n",
       "    </tr>\n",
       "    <tr>\n",
       "      <th>6</th>\n",
       "      <td>30–34</td>\n",
       "      <td>11.0</td>\n",
       "      <td>10.5</td>\n",
       "      <td>21.5</td>\n",
       "    </tr>\n",
       "    <tr>\n",
       "      <th>7</th>\n",
       "      <td>35–39</td>\n",
       "      <td>10.5</td>\n",
       "      <td>10.0</td>\n",
       "      <td>20.5</td>\n",
       "    </tr>\n",
       "    <tr>\n",
       "      <th>8</th>\n",
       "      <td>40–44</td>\n",
       "      <td>10.0</td>\n",
       "      <td>9.5</td>\n",
       "      <td>19.5</td>\n",
       "    </tr>\n",
       "  </tbody>\n",
       "</table>\n",
       "</div>"
      ],
      "text/plain": [
       "  Age Group  Males (millions)  Females (millions)  Total\n",
       "4     20–24              12.0                11.0   23.0\n",
       "5     25–29              11.5                11.0   22.5\n",
       "6     30–34              11.0                10.5   21.5\n",
       "7     35–39              10.5                10.0   20.5\n",
       "8     40–44              10.0                 9.5   19.5"
      ]
     },
     "execution_count": 69,
     "metadata": {},
     "output_type": "execute_result"
    }
   ],
   "source": [
    "df['Total'] = df['Males (millions)'] + df['Females (millions)']\n",
    "df.head()"
   ]
  },
  {
   "cell_type": "code",
   "execution_count": 71,
   "metadata": {},
   "outputs": [
    {
     "data": {
      "text/html": [
       "<div>\n",
       "<style scoped>\n",
       "    .dataframe tbody tr th:only-of-type {\n",
       "        vertical-align: middle;\n",
       "    }\n",
       "\n",
       "    .dataframe tbody tr th {\n",
       "        vertical-align: top;\n",
       "    }\n",
       "\n",
       "    .dataframe thead th {\n",
       "        text-align: right;\n",
       "    }\n",
       "</style>\n",
       "<table border=\"1\" class=\"dataframe\">\n",
       "  <thead>\n",
       "    <tr style=\"text-align: right;\">\n",
       "      <th></th>\n",
       "      <th>Age Group</th>\n",
       "      <th>Males (millions)</th>\n",
       "      <th>Females (millions)</th>\n",
       "      <th>Total</th>\n",
       "      <th>Probability</th>\n",
       "    </tr>\n",
       "  </thead>\n",
       "  <tbody>\n",
       "    <tr>\n",
       "      <th>4</th>\n",
       "      <td>20–24</td>\n",
       "      <td>12.0</td>\n",
       "      <td>11.0</td>\n",
       "      <td>23.0</td>\n",
       "      <td>0.125341</td>\n",
       "    </tr>\n",
       "    <tr>\n",
       "      <th>5</th>\n",
       "      <td>25–29</td>\n",
       "      <td>11.5</td>\n",
       "      <td>11.0</td>\n",
       "      <td>22.5</td>\n",
       "      <td>0.122616</td>\n",
       "    </tr>\n",
       "    <tr>\n",
       "      <th>6</th>\n",
       "      <td>30–34</td>\n",
       "      <td>11.0</td>\n",
       "      <td>10.5</td>\n",
       "      <td>21.5</td>\n",
       "      <td>0.117166</td>\n",
       "    </tr>\n",
       "    <tr>\n",
       "      <th>7</th>\n",
       "      <td>35–39</td>\n",
       "      <td>10.5</td>\n",
       "      <td>10.0</td>\n",
       "      <td>20.5</td>\n",
       "      <td>0.111717</td>\n",
       "    </tr>\n",
       "    <tr>\n",
       "      <th>8</th>\n",
       "      <td>40–44</td>\n",
       "      <td>10.0</td>\n",
       "      <td>9.5</td>\n",
       "      <td>19.5</td>\n",
       "      <td>0.106267</td>\n",
       "    </tr>\n",
       "  </tbody>\n",
       "</table>\n",
       "</div>"
      ],
      "text/plain": [
       "  Age Group  Males (millions)  Females (millions)  Total  Probability\n",
       "4     20–24              12.0                11.0   23.0     0.125341\n",
       "5     25–29              11.5                11.0   22.5     0.122616\n",
       "6     30–34              11.0                10.5   21.5     0.117166\n",
       "7     35–39              10.5                10.0   20.5     0.111717\n",
       "8     40–44              10.0                 9.5   19.5     0.106267"
      ]
     },
     "execution_count": 71,
     "metadata": {},
     "output_type": "execute_result"
    }
   ],
   "source": [
    "sum_total = df['Total'].sum()\n",
    "df['Probability'] = df['Total'] / sum_total\n",
    "df.head()"
   ]
  },
  {
   "cell_type": "code",
   "execution_count": 79,
   "metadata": {},
   "outputs": [
    {
     "data": {
      "text/plain": [
       "(20, 24)"
      ]
     },
     "execution_count": 79,
     "metadata": {},
     "output_type": "execute_result"
    }
   ],
   "source": [
    "s, e = age_groups[0].split('–')\n",
    "s = int(s)\n",
    "e = int(e)\n",
    "s, e"
   ]
  },
  {
   "cell_type": "code",
   "execution_count": 80,
   "metadata": {},
   "outputs": [],
   "source": [
    "### 3000 Values.\n",
    "\n",
    "## Step-1: Choose Age-Group with probability based on 'Probability' column.\n",
    "## Step-2: Choose raw value from Age-Group based on equal probability.\n",
    "\n",
    "age_properties = []\n",
    "for i in range(3000):\n",
    "    age_group = str(np.random.choice(age_groups, p=df['Probability']))\n",
    "    age_s, age_e = age_group.split('–')\n",
    "    age_s, age_e = int(age_s), int(age_e)\n",
    "    age_raw = np.random.randint(age_s, age_e + 1)\n",
    "    age_properties.append({\"raw_value\": age_raw, \"cat_value\": age_group})"
   ]
  },
  {
   "cell_type": "code",
   "execution_count": 81,
   "metadata": {},
   "outputs": [
    {
     "data": {
      "text/plain": [
       "(3000, {'raw_value': 26, 'cat_value': '25–29'})"
      ]
     },
     "execution_count": 81,
     "metadata": {},
     "output_type": "execute_result"
    }
   ],
   "source": [
    "len(age_properties), age_properties[0]"
   ]
  },
  {
   "cell_type": "markdown",
   "metadata": {},
   "source": [
    "## Income"
   ]
  },
  {
   "cell_type": "code",
   "execution_count": 113,
   "metadata": {},
   "outputs": [
    {
     "data": {
      "text/plain": [
       "'dump/india\\\\income.txt'"
      ]
     },
     "execution_count": 113,
     "metadata": {},
     "output_type": "execute_result"
    }
   ],
   "source": [
    "income_file = glob.glob(\"dump/india/income*.txt\")[0]\n",
    "income_file"
   ]
  },
  {
   "cell_type": "code",
   "execution_count": 114,
   "metadata": {},
   "outputs": [
    {
     "data": {
      "text/html": [
       "<div>\n",
       "<style scoped>\n",
       "    .dataframe tbody tr th:only-of-type {\n",
       "        vertical-align: middle;\n",
       "    }\n",
       "\n",
       "    .dataframe tbody tr th {\n",
       "        vertical-align: top;\n",
       "    }\n",
       "\n",
       "    .dataframe thead th {\n",
       "        text-align: right;\n",
       "    }\n",
       "</style>\n",
       "<table border=\"1\" class=\"dataframe\">\n",
       "  <thead>\n",
       "    <tr style=\"text-align: right;\">\n",
       "      <th></th>\n",
       "      <th>Income Group</th>\n",
       "      <th>Annual Income Range (INR)</th>\n",
       "      <th>Approximate Percentage of Population</th>\n",
       "    </tr>\n",
       "  </thead>\n",
       "  <tbody>\n",
       "    <tr>\n",
       "      <th>0</th>\n",
       "      <td>Low-Income Group</td>\n",
       "      <td>Less than ₹1,00,000</td>\n",
       "      <td>~25%</td>\n",
       "    </tr>\n",
       "    <tr>\n",
       "      <th>1</th>\n",
       "      <td>Lower-Middle Class</td>\n",
       "      <td>₹1,00,000 - ₹3,00,000</td>\n",
       "      <td>~30%</td>\n",
       "    </tr>\n",
       "    <tr>\n",
       "      <th>2</th>\n",
       "      <td>Middle Class</td>\n",
       "      <td>₹3,00,000 - ₹10,00,000</td>\n",
       "      <td>~30%</td>\n",
       "    </tr>\n",
       "    <tr>\n",
       "      <th>3</th>\n",
       "      <td>Upper-Middle Class</td>\n",
       "      <td>₹10,00,000 - ₹25,00,000</td>\n",
       "      <td>~10%</td>\n",
       "    </tr>\n",
       "    <tr>\n",
       "      <th>4</th>\n",
       "      <td>High-Income Group</td>\n",
       "      <td>More than ₹25,00,000</td>\n",
       "      <td>~5%</td>\n",
       "    </tr>\n",
       "  </tbody>\n",
       "</table>\n",
       "</div>"
      ],
      "text/plain": [
       "         Income Group Annual Income Range (INR)  \\\n",
       "0    Low-Income Group       Less than ₹1,00,000   \n",
       "1  Lower-Middle Class     ₹1,00,000 - ₹3,00,000   \n",
       "2        Middle Class    ₹3,00,000 - ₹10,00,000   \n",
       "3  Upper-Middle Class   ₹10,00,000 - ₹25,00,000   \n",
       "4   High-Income Group      More than ₹25,00,000   \n",
       "\n",
       "  Approximate Percentage of Population  \n",
       "0                                 ~25%  \n",
       "1                                 ~30%  \n",
       "2                                 ~30%  \n",
       "3                                 ~10%  \n",
       "4                                  ~5%  "
      ]
     },
     "execution_count": 114,
     "metadata": {},
     "output_type": "execute_result"
    }
   ],
   "source": [
    "df = pd.read_csv(income_file, sep=\"\\t\")\n",
    "df.head()"
   ]
  },
  {
   "cell_type": "code",
   "execution_count": 115,
   "metadata": {},
   "outputs": [
    {
     "data": {
      "text/plain": [
       "['Income Group',\n",
       " 'Annual Income Range (INR)',\n",
       " 'Approximate Percentage of Population']"
      ]
     },
     "execution_count": 115,
     "metadata": {},
     "output_type": "execute_result"
    }
   ],
   "source": [
    "cols = list(df.columns)\n",
    "cols"
   ]
  },
  {
   "cell_type": "code",
   "execution_count": 116,
   "metadata": {},
   "outputs": [
    {
     "data": {
      "text/html": [
       "<div>\n",
       "<style scoped>\n",
       "    .dataframe tbody tr th:only-of-type {\n",
       "        vertical-align: middle;\n",
       "    }\n",
       "\n",
       "    .dataframe tbody tr th {\n",
       "        vertical-align: top;\n",
       "    }\n",
       "\n",
       "    .dataframe thead th {\n",
       "        text-align: right;\n",
       "    }\n",
       "</style>\n",
       "<table border=\"1\" class=\"dataframe\">\n",
       "  <thead>\n",
       "    <tr style=\"text-align: right;\">\n",
       "      <th></th>\n",
       "      <th>Income Group</th>\n",
       "      <th>Annual Income Range (INR)</th>\n",
       "      <th>Approximate Percentage of Population</th>\n",
       "      <th>income_group_probs</th>\n",
       "    </tr>\n",
       "  </thead>\n",
       "  <tbody>\n",
       "    <tr>\n",
       "      <th>0</th>\n",
       "      <td>Low-Income Group</td>\n",
       "      <td>Less than ₹1,00,000</td>\n",
       "      <td>~25%</td>\n",
       "      <td>0.25</td>\n",
       "    </tr>\n",
       "    <tr>\n",
       "      <th>1</th>\n",
       "      <td>Lower-Middle Class</td>\n",
       "      <td>₹1,00,000 - ₹3,00,000</td>\n",
       "      <td>~30%</td>\n",
       "      <td>0.30</td>\n",
       "    </tr>\n",
       "    <tr>\n",
       "      <th>2</th>\n",
       "      <td>Middle Class</td>\n",
       "      <td>₹3,00,000 - ₹10,00,000</td>\n",
       "      <td>~30%</td>\n",
       "      <td>0.30</td>\n",
       "    </tr>\n",
       "    <tr>\n",
       "      <th>3</th>\n",
       "      <td>Upper-Middle Class</td>\n",
       "      <td>₹10,00,000 - ₹25,00,000</td>\n",
       "      <td>~10%</td>\n",
       "      <td>0.10</td>\n",
       "    </tr>\n",
       "    <tr>\n",
       "      <th>4</th>\n",
       "      <td>High-Income Group</td>\n",
       "      <td>More than ₹25,00,000</td>\n",
       "      <td>~5%</td>\n",
       "      <td>0.05</td>\n",
       "    </tr>\n",
       "  </tbody>\n",
       "</table>\n",
       "</div>"
      ],
      "text/plain": [
       "         Income Group Annual Income Range (INR)  \\\n",
       "0    Low-Income Group       Less than ₹1,00,000   \n",
       "1  Lower-Middle Class     ₹1,00,000 - ₹3,00,000   \n",
       "2        Middle Class    ₹3,00,000 - ₹10,00,000   \n",
       "3  Upper-Middle Class   ₹10,00,000 - ₹25,00,000   \n",
       "4   High-Income Group      More than ₹25,00,000   \n",
       "\n",
       "  Approximate Percentage of Population  income_group_probs  \n",
       "0                                 ~25%                0.25  \n",
       "1                                 ~30%                0.30  \n",
       "2                                 ~30%                0.30  \n",
       "3                                 ~10%                0.10  \n",
       "4                                  ~5%                0.05  "
      ]
     },
     "execution_count": 116,
     "metadata": {},
     "output_type": "execute_result"
    }
   ],
   "source": [
    "df['income_group_probs'] = df[cols[2]].apply(lambda x: int(str(x).split(\"~\")[1].split(\"%\")[0]) / 100)\n",
    "df.head()"
   ]
  },
  {
   "cell_type": "code",
   "execution_count": 117,
   "metadata": {},
   "outputs": [],
   "source": [
    "df['income_range'] = [\"0, 100000\", \"100000, 300000\", \"300000, 1000000\", \"1000000, 2500000\", \"2500000, 10000000\"]"
   ]
  },
  {
   "cell_type": "code",
   "execution_count": 118,
   "metadata": {},
   "outputs": [
    {
     "data": {
      "text/html": [
       "<div>\n",
       "<style scoped>\n",
       "    .dataframe tbody tr th:only-of-type {\n",
       "        vertical-align: middle;\n",
       "    }\n",
       "\n",
       "    .dataframe tbody tr th {\n",
       "        vertical-align: top;\n",
       "    }\n",
       "\n",
       "    .dataframe thead th {\n",
       "        text-align: right;\n",
       "    }\n",
       "</style>\n",
       "<table border=\"1\" class=\"dataframe\">\n",
       "  <thead>\n",
       "    <tr style=\"text-align: right;\">\n",
       "      <th></th>\n",
       "      <th>Income Group</th>\n",
       "      <th>Annual Income Range (INR)</th>\n",
       "      <th>Approximate Percentage of Population</th>\n",
       "      <th>income_group_probs</th>\n",
       "      <th>income_range</th>\n",
       "    </tr>\n",
       "  </thead>\n",
       "  <tbody>\n",
       "    <tr>\n",
       "      <th>0</th>\n",
       "      <td>Low-Income Group</td>\n",
       "      <td>Less than ₹1,00,000</td>\n",
       "      <td>~25%</td>\n",
       "      <td>0.25</td>\n",
       "      <td>0, 100000</td>\n",
       "    </tr>\n",
       "    <tr>\n",
       "      <th>1</th>\n",
       "      <td>Lower-Middle Class</td>\n",
       "      <td>₹1,00,000 - ₹3,00,000</td>\n",
       "      <td>~30%</td>\n",
       "      <td>0.30</td>\n",
       "      <td>100000, 300000</td>\n",
       "    </tr>\n",
       "    <tr>\n",
       "      <th>2</th>\n",
       "      <td>Middle Class</td>\n",
       "      <td>₹3,00,000 - ₹10,00,000</td>\n",
       "      <td>~30%</td>\n",
       "      <td>0.30</td>\n",
       "      <td>300000, 1000000</td>\n",
       "    </tr>\n",
       "    <tr>\n",
       "      <th>3</th>\n",
       "      <td>Upper-Middle Class</td>\n",
       "      <td>₹10,00,000 - ₹25,00,000</td>\n",
       "      <td>~10%</td>\n",
       "      <td>0.10</td>\n",
       "      <td>1000000, 2500000</td>\n",
       "    </tr>\n",
       "    <tr>\n",
       "      <th>4</th>\n",
       "      <td>High-Income Group</td>\n",
       "      <td>More than ₹25,00,000</td>\n",
       "      <td>~5%</td>\n",
       "      <td>0.05</td>\n",
       "      <td>2500000, 10000000</td>\n",
       "    </tr>\n",
       "  </tbody>\n",
       "</table>\n",
       "</div>"
      ],
      "text/plain": [
       "         Income Group Annual Income Range (INR)  \\\n",
       "0    Low-Income Group       Less than ₹1,00,000   \n",
       "1  Lower-Middle Class     ₹1,00,000 - ₹3,00,000   \n",
       "2        Middle Class    ₹3,00,000 - ₹10,00,000   \n",
       "3  Upper-Middle Class   ₹10,00,000 - ₹25,00,000   \n",
       "4   High-Income Group      More than ₹25,00,000   \n",
       "\n",
       "  Approximate Percentage of Population  income_group_probs       income_range  \n",
       "0                                 ~25%                0.25          0, 100000  \n",
       "1                                 ~30%                0.30     100000, 300000  \n",
       "2                                 ~30%                0.30    300000, 1000000  \n",
       "3                                 ~10%                0.10   1000000, 2500000  \n",
       "4                                  ~5%                0.05  2500000, 10000000  "
      ]
     },
     "execution_count": 118,
     "metadata": {},
     "output_type": "execute_result"
    }
   ],
   "source": [
    "df.head()"
   ]
  },
  {
   "cell_type": "code",
   "execution_count": 119,
   "metadata": {},
   "outputs": [
    {
     "data": {
      "text/plain": [
       "[('0, 100000', 'Low-Income Group'),\n",
       " ('100000, 300000', 'Lower-Middle Class'),\n",
       " ('300000, 1000000', 'Middle Class'),\n",
       " ('1000000, 2500000', 'Upper-Middle Class'),\n",
       " ('2500000, 10000000', 'High-Income Group')]"
      ]
     },
     "execution_count": 119,
     "metadata": {},
     "output_type": "execute_result"
    }
   ],
   "source": [
    "zipped = list(zip(df['income_range'], df['Income Group']))\n",
    "zipped"
   ]
  },
  {
   "cell_type": "code",
   "execution_count": 120,
   "metadata": {},
   "outputs": [],
   "source": [
    "## 3000 values.\n",
    "## Step-1: Choose income group with income_group_probs.\n",
    "## Step-2: Choose raw value in the income_range\n",
    "\n",
    "income_properties = []\n",
    "for i in range(3000):\n",
    "    idx = str(np.random.choice(range(len(zipped)), p=df['income_group_probs']))\n",
    "    income_range, income_group = zipped[int(idx)]\n",
    "    income_s, income_e = income_range.split(\", \")\n",
    "    income_s, income_e = int(income_s), int(income_e)\n",
    "    income_raw = np.random.randint(income_s, income_e)\n",
    "    income_properties.append({\"raw_value\": income_raw, \"cat_value\": income_group})"
   ]
  },
  {
   "cell_type": "markdown",
   "metadata": {},
   "source": [
    "## Hobbies"
   ]
  },
  {
   "cell_type": "code",
   "execution_count": 83,
   "metadata": {},
   "outputs": [
    {
     "data": {
      "text/plain": [
       "'dump\\\\hobbies.json'"
      ]
     },
     "execution_count": 83,
     "metadata": {},
     "output_type": "execute_result"
    }
   ],
   "source": [
    "hob_f = glob.glob(\"dump/h*.json\")[0]\n",
    "hob_f"
   ]
  },
  {
   "cell_type": "code",
   "execution_count": 84,
   "metadata": {},
   "outputs": [
    {
     "data": {
      "text/plain": [
       "dict_keys(['creative', 'physical', 'intellectual', 'social', 'collecting'])"
      ]
     },
     "execution_count": 84,
     "metadata": {},
     "output_type": "execute_result"
    }
   ],
   "source": [
    "with open(hob_f, \"r\") as f:\n",
    "    hobbies = json.load(f)\n",
    "\n",
    "hobbies.keys()"
   ]
  },
  {
   "cell_type": "code",
   "execution_count": 85,
   "metadata": {},
   "outputs": [
    {
     "data": {
      "text/plain": [
       "(3000,\n",
       " {'raw_value': 'trading cards and toy collecting', 'cat_value': 'collecting'})"
      ]
     },
     "execution_count": 85,
     "metadata": {},
     "output_type": "execute_result"
    }
   ],
   "source": [
    "## 3000 Values.\n",
    "## Step-1: Choose a category.\n",
    "## Step-2: Choose 2 raw values from the category.\n",
    "\n",
    "hobbies_properties = []\n",
    "for i in range(3000):\n",
    "    hob_group = str(np.random.choice(list(hobbies.keys())))\n",
    "    hob_select = random.sample(hobbies[hob_group], 2)\n",
    "    hob_raw = \" and \".join(hob_select)\n",
    "    hobbies_properties.append({\"raw_value\": hob_raw, \"cat_value\": hob_group})\n",
    "\n",
    "len(hobbies_properties), hobbies_properties[0]"
   ]
  },
  {
   "cell_type": "markdown",
   "metadata": {},
   "source": [
    "## Creation of agents."
   ]
  },
  {
   "cell_type": "code",
   "execution_count": 86,
   "metadata": {},
   "outputs": [],
   "source": [
    "import os\n",
    "\n",
    "os.makedirs(\"raw_agents\", exist_ok=True)"
   ]
  },
  {
   "cell_type": "code",
   "execution_count": 125,
   "metadata": {},
   "outputs": [],
   "source": [
    "agents = []\n",
    "\n",
    "for i in range(3000):\n",
    "    agent = AgentSpec(i, name_properties[i], occupation_properties[i], age_properties[i], income_properties[i], hobbies_properties[i])\n",
    "    agents.append(agent)"
   ]
  },
  {
   "cell_type": "code",
   "execution_count": 129,
   "metadata": {},
   "outputs": [
    {
     "data": {
      "text/plain": [
       "(3000,)"
      ]
     },
     "execution_count": 129,
     "metadata": {},
     "output_type": "execute_result"
    }
   ],
   "source": [
    "len(agents), # agents[0].convert_to_json()"
   ]
  },
  {
   "cell_type": "code",
   "execution_count": 130,
   "metadata": {},
   "outputs": [],
   "source": [
    "## save to file.\n",
    "import json\n",
    "\n",
    "with open(\"raw_agents/india_exp_agents.json\", \"w\") as f:\n",
    "    json.dump([agent.convert_to_json() for agent in agents], f, indent=4)"
   ]
  },
  {
   "cell_type": "code",
   "execution_count": null,
   "metadata": {},
   "outputs": [],
   "source": []
  }
 ],
 "metadata": {
  "kernelspec": {
   "display_name": ".venv",
   "language": "python",
   "name": "python3"
  },
  "language_info": {
   "codemirror_mode": {
    "name": "ipython",
    "version": 3
   },
   "file_extension": ".py",
   "mimetype": "text/x-python",
   "name": "python",
   "nbconvert_exporter": "python",
   "pygments_lexer": "ipython3",
   "version": "3.11.9"
  }
 },
 "nbformat": 4,
 "nbformat_minor": 2
}
